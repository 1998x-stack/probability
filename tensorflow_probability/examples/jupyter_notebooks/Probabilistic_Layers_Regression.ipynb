{
  "cells": [
    {
      "cell_type": "markdown",
      "metadata": {
        "colab_type": "text",
        "id": "ZrwVQsM9TiUw"
      },
      "source": [
        "##### Copyright 2019 The TensorFlow Authors.\n",
        "\n",
        "Licensed under the Apache License, Version 2.0 (the \"License\");"
      ]
    },
    {
      "cell_type": "code",
      "execution_count": 0,
      "metadata": {
        "colab": {},
        "colab_type": "code",
        "id": "CpDUTVKYTowI"
      },
      "outputs": [],
      "source": [
        "#@title Licensed under the Apache License, Version 2.0 (the \"License\"); { display-mode: \"form\" }\n",
        "# you may not use this file except in compliance with the License.\n",
        "# You may obtain a copy of the License at\n",
        "#\n",
        "# https://www.apache.org/licenses/LICENSE-2.0\n",
        "#\n",
        "# Unless required by applicable law or agreed to in writing, software\n",
        "# distributed under the License is distributed on an \"AS IS\" BASIS,\n",
        "# WITHOUT WARRANTIES OR CONDITIONS OF ANY KIND, either express or implied.\n",
        "# See the License for the specific language governing permissions and\n",
        "# limitations under the License."
      ]
    },
    {
      "cell_type": "markdown",
      "metadata": {
        "colab_type": "text",
        "id": "ltPJCG6pAUoc"
      },
      "source": [
        "# TFP Probabilistic Layers: Regression\n",
        "\n",
        "\u003ctable class=\"tfo-notebook-buttons\" align=\"left\"\u003e\n",
        "  \u003ctd\u003e\n",
        "    \u003ca target=\"_blank\" href=\"https://colab.research.google.com/github/tensorflow/probability/blob/master/tensorflow_probability/examples/jupyter_notebooks/Probabilistic_Layers_Regression.ipynb\"\u003e\u003cimg src=\"https://www.tensorflow.org/images/colab_logo_32px.png\" /\u003eRun in Google Colab\u003c/a\u003e\n",
        "  \u003c/td\u003e\n",
        "  \u003ctd\u003e\n",
        "    \u003ca target=\"_blank\" href=\"https://github.com/tensorflow/probability/blob/master/tensorflow_probability/examples/jupyter_notebooks/Probabilistic_Layers_Regression.ipynb\"\u003e\u003cimg src=\"https://www.tensorflow.org/images/GitHub-Mark-32px.png\" /\u003eView source on GitHub\u003c/a\u003e\n",
        "  \u003c/td\u003e\n",
        "\u003c/table\u003e"
      ]
    },
    {
      "cell_type": "markdown",
      "metadata": {
        "colab_type": "text",
        "id": "WRVR-tGTR31S"
      },
      "source": [
        "In this example we show how to fit regression models using TFP's \"probabilistic layers.\""
      ]
    },
    {
      "cell_type": "markdown",
      "metadata": {
        "colab_type": "text",
        "id": "uiR4-VOt9NFX"
      },
      "source": [
        "### Dependencies \u0026 Prerequisites\n"
      ]
    },
    {
      "cell_type": "code",
      "execution_count": 0,
      "metadata": {
        "colab": {},
        "colab_type": "code",
        "id": "9clSiUTiT3G1"
      },
      "outputs": [],
      "source": [
        "#@title Install { display-mode: \"form\" }\n",
        "TFP_Installation = \"Nightly\" #@param [\"Nightly\", \"Stable\", \"System\"]\n",
        "\n",
        "if TFP_Installation == \"Nightly\":\n",
        "  !pip install -q tfp-nightly\n",
        "  print(\"Installation of `tfp-nightly` complete.\")\n",
        "elif TFP_Installation == \"Stable\":\n",
        "  !pip install -q --upgrade tensorflow-probability\n",
        "  print(\"Installation of `tensorflow-probability` complete.\")\n",
        "elif TFP_Installation == \"System\":\n",
        "  pass\n",
        "else:\n",
        "  raise ValueError(\"Selection Error: Please select a valid \"\n",
        "                   \"installation option.\")"
      ]
    },
    {
      "cell_type": "code",
      "execution_count": 0,
      "metadata": {
        "colab": {},
        "colab_type": "code",
        "id": "kZ0MdF1j8WJf"
      },
      "outputs": [],
      "source": [
        "#@title Import { display-mode: \"form\" }\n",
        "\n",
        "from __future__ import absolute_import\n",
        "from __future__ import division\n",
        "from __future__ import print_function\n",
        "\n",
        "from pprint import pprint\n",
        "import matplotlib.pyplot as plt\n",
        "import numpy as np\n",
        "import seaborn as sns\n",
        "\n",
        "sns.reset_defaults()\n",
        "#sns.set_style('whitegrid')\n",
        "#sns.set_context('talk')\n",
        "sns.set_context(context='talk',font_scale=0.7)\n",
        "\n",
        "import tensorflow.compat.v2 as tf\n",
        "import tensorflow_probability as tfp\n",
        "\n",
        "tf.enable_v2_behavior()\n",
        "%matplotlib inline\n",
        "\n",
        "tfd = tfp.distributions"
      ]
    },
    {
      "cell_type": "markdown",
      "metadata": {
        "colab_type": "text",
        "id": "xuqxMmryiduM"
      },
      "source": [
        "## Motivation"
      ]
    },
    {
      "cell_type": "markdown",
      "metadata": {
        "colab_type": "text",
        "id": "RtBLNF-tin2L"
      },
      "source": [
        "Wouldn't it be great if we could use TFP to specify a probabilistic model then simply minimize the negative log-likelihood, i.e.,"
      ]
    },
    {
      "cell_type": "code",
      "execution_count": 0,
      "metadata": {
        "colab": {},
        "colab_type": "code",
        "id": "3PFfNeJzifo7"
      },
      "outputs": [],
      "source": [
        "negloglik = lambda y, rv_y: -rv_y.log_prob(y)"
      ]
    },
    {
      "cell_type": "markdown",
      "metadata": {
        "colab_type": "text",
        "id": "cN4IP8n_jIvT"
      },
      "source": [
        "Well not only is it possible, but this colab shows how! (In context of linear regression problems.)"
      ]
    },
    {
      "cell_type": "code",
      "execution_count": 0,
      "metadata": {
        "cellView": "form",
        "colab": {},
        "colab_type": "code",
        "id": "5zCEYpzu7bDX"
      },
      "outputs": [],
      "source": [
        "#@title Synthesize dataset.\n",
        "np.random.seed(43)\n",
        "n = 150\n",
        "w0 = 0.125\n",
        "b0 = 5.\n",
        "x_range = [-20, 60]\n",
        "x_tst = np.linspace(*x_range).astype(np.float32)\n",
        "\n",
        "if False:\n",
        "  def s(x):\n",
        "    g = (x - x_range[0]) / (x_range[1] - x_range[0])\n",
        "    return 3*(0.25 + g**2.)\n",
        "\n",
        "  x = (x_range[1] - x_range[0]) * np.random.rand(n) + x_range[0]\n",
        "  eps = np.random.randn(n) * s(x)\n",
        "  y = (w0 * x + b0) + eps \n",
        "else:\n",
        "  def s(x):\n",
        "    g = (x - x_range[0]) / (x_range[1] - x_range[0])\n",
        "    return 3*(0.25 + g**2.)\n",
        "\n",
        "  x = (x_range[1] - x_range[0]) * np.random.rand(n) + x_range[0]\n",
        "  eps = np.random.randn(n) * s(x)\n",
        "  y = (w0 * x * (1 + np.sin(x)) + b0) + eps\n",
        "  \n",
        "  \n",
        "x = x[..., tf.newaxis]            \n",
        "x_tst = x_tst[..., tf.newaxis]    "
      ]
    },
    {
      "cell_type": "markdown",
      "metadata": {
        "colab_type": "text",
        "id": "N8Shtn_e99XC"
      },
      "source": [
        "### Case 1: No Uncertainty"
      ]
    },
    {
      "cell_type": "code",
      "execution_count": 0,
      "metadata": {
        "colab": {
          "height": 54
        },
        "colab_type": "code",
        "executionInfo": {
          "elapsed": 3020,
          "status": "ok",
          "timestamp": 1551735127754,
          "user": {
            "displayName": "",
            "photoUrl": "",
            "userId": ""
          },
          "user_tz": 480
        },
        "id": "RxKJ_RPI0K4N",
        "outputId": "89422f6f-b611-4bee-b0a7-cedca46e3965"
      },
      "outputs": [
        {
          "name": "stdout",
          "output_type": "stream",
          "text": [
            "0.133333235979\n",
            "5.12391805649\n"
          ]
        }
      ],
      "source": [
        "# Build model.\n",
        "model = tf.keras.Sequential([\n",
        "  tf.keras.layers.Dense(1),\n",
        "  tfp.layers.DistributionLambda(lambda t: tfd.Normal(loc=t, scale=1)),\n",
        "])\n",
        "\n",
        "# Do inference.\n",
        "model.compile(optimizer=tf.optimizers.Adam(learning_rate=0.05), loss=negloglik)\n",
        "model.fit(x, y, epochs=500, verbose=False);\n",
        "\n",
        "# Profit.\n",
        "[print(np.squeeze(w.numpy())) for w in model.weights];\n",
        "yhat = model(x_tst)"
      ]
    },
    {
      "cell_type": "code",
      "execution_count": 0,
      "metadata": {
        "cellView": "form",
        "colab": {
          "height": 132
        },
        "colab_type": "code",
        "executionInfo": {
          "elapsed": 735,
          "status": "ok",
          "timestamp": 1551735128555,
          "user": {
            "displayName": "",
            "photoUrl": "",
            "userId": ""
          },
          "user_tz": 480
        },
        "id": "1AE9ElaKI6Er",
        "outputId": "f2289406-b1d5-4b86-ea58-f6afa4062f6d"
      },
      "outputs": [
        {
          "data": {
            "image/png": "[encoded data removed]",
            "text/plain": [
              "\u003cmatplotlib.figure.Figure at 0x7f7dac0de650\u003e"
            ]
          },
          "metadata": {
            "tags": []
          },
          "output_type": "display_data"
        }
      ],
      "source": [
        "#@title Figure 1: No uncertainty.\n",
        "w = np.squeeze(model.layers[-2].kernel.numpy())\n",
        "b = np.squeeze(model.layers[-2].bias.numpy())\n",
        "\n",
        "plt.figure(figsize=[6, 1.5])  # inches\n",
        "#plt.figure(figsize=[8, 5])  # inches\n",
        "plt.plot(x, y, 'b.', label='observed');\n",
        "plt.plot(x_tst, yhat.mean(),'r', label='fit', linewidth=4);\n",
        "plt.ylim(-0.,17);\n",
        "plt.yticks(np.linspace(0, 15, 4)[1:]);\n",
        "plt.xticks(np.linspace(*x_range, num=9));\n",
        "\n",
        "ax=plt.gca();\n",
        "ax.xaxis.set_ticks_position('bottom')\n",
        "ax.yaxis.set_ticks_position('left')\n",
        "ax.spines['left'].set_position(('data', 0))\n",
        "ax.spines['top'].set_visible(False)\n",
        "ax.spines['right'].set_visible(False)\n",
        "#ax.spines['left'].set_smart_bounds(True)\n",
        "#ax.spines['bottom'].set_smart_bounds(True)\n",
        "\n",
        "plt.savefig('/tmp/fig1.png', bbox_inches='tight', dpi=300)"
      ]
    },
    {
      "cell_type": "markdown",
      "metadata": {
        "colab_type": "text",
        "id": "91kwRqs4O5Yv"
      },
      "source": [
        "### Case 2: Aleatoric Uncertainty"
      ]
    },
    {
      "cell_type": "code",
      "execution_count": 0,
      "metadata": {
        "colab": {
          "height": 54
        },
        "colab_type": "code",
        "executionInfo": {
          "elapsed": 3543,
          "status": "ok",
          "timestamp": 1551735132126,
          "user": {
            "displayName": "",
            "photoUrl": "",
            "userId": ""
          },
          "user_tz": 480
        },
        "id": "TLZ97_V4PP-f",
        "outputId": "f1bcec40-5084-4305-e04b-923e4e66f311"
      },
      "outputs": [
        {
          "name": "stdout",
          "output_type": "stream",
          "text": [
            "[ 0.1275036   1.03549111]\n",
            "[  5.22077322  24.21292496]\n"
          ]
        }
      ],
      "source": [
        "# Build model.\n",
        "model = tf.keras.Sequential([\n",
        "  tf.keras.layers.Dense(1 + 1),\n",
        "  tfp.layers.DistributionLambda(lambda t: tfd.Normal(\n",
        "      loc=t[..., :1],\n",
        "      scale=1e-3 + tf.math.softplus(0.05 * t[...,1:]))),\n",
        "])\n",
        "\n",
        "# Do inference.\n",
        "model.compile(optimizer=tf.optimizers.Adam(learning_rate=0.05), loss=negloglik)\n",
        "model.fit(x, y, epochs=500, verbose=False);\n",
        "\n",
        "# Profit.\n",
        "[print(np.squeeze(w.numpy())) for w in model.weights];\n",
        "yhat = model(x_tst)"
      ]
    },
    {
      "cell_type": "code",
      "execution_count": 0,
      "metadata": {
        "cellView": "form",
        "colab": {
          "height": 132
        },
        "colab_type": "code",
        "executionInfo": {
          "elapsed": 849,
          "status": "ok",
          "timestamp": 1551735133041,
          "user": {
            "displayName": "",
            "photoUrl": "",
            "userId": ""
          },
          "user_tz": 480
        },
        "id": "JSSWw2-FPCiG",
        "outputId": "51fec21b-e425-4423-b040-9b50e5b24c1f"
      },
      "outputs": [
        {
          "data": {
            "image/png": "[encoded data removed]",
            "text/plain": [
              "\u003cmatplotlib.figure.Figure at 0x7f7dabf3a990\u003e"
            ]
          },
          "metadata": {
            "tags": []
          },
          "output_type": "display_data"
        }
      ],
      "source": [
        "#@title Figure 2: Aleatoric Uncertainty\n",
        "plt.figure(figsize=[6, 1.5])  # inches\n",
        "plt.plot(x, y, 'b.', label='observed');\n",
        "\n",
        "m = yhat.mean()\n",
        "s = yhat.stddev()\n",
        "\n",
        "plt.plot(x_tst, m, 'r', linewidth=4, label='fit');\n",
        "plt.plot(x_tst, m + 2 * s, 'g', linewidth=2, label=r'$\\mu+\\sigma$');\n",
        "plt.plot(x_tst, m - 2 * s, 'g', linewidth=2, label=r'$\\mu-\\sigma$');\n",
        "\n",
        "plt.ylim(-0.,17);\n",
        "plt.yticks(np.linspace(0, 15, 4)[1:]);\n",
        "plt.xticks(np.linspace(*x_range, num=9));\n",
        "\n",
        "ax=plt.gca();\n",
        "ax.xaxis.set_ticks_position('bottom')\n",
        "ax.yaxis.set_ticks_position('left')\n",
        "ax.spines['left'].set_position(('data', 0))\n",
        "ax.spines['top'].set_visible(False)\n",
        "ax.spines['right'].set_visible(False)\n",
        "#ax.spines['left'].set_smart_bounds(True)\n",
        "#ax.spines['bottom'].set_smart_bounds(True)\n",
        "\n",
        "plt.savefig('/tmp/fig2.png', bbox_inches='tight', dpi=300)"
      ]
    },
    {
      "cell_type": "markdown",
      "metadata": {
        "colab_type": "text",
        "id": "xEvTd7ZJYvDx"
      },
      "source": [
        "### Case 3: Epistemic Uncertainty"
      ]
    },
    {
      "cell_type": "markdown",
      "metadata": {
        "colab_type": "text",
        "id": "5HiRE1fOJ23z"
      },
      "source": [
        "#### DenseVariational Layer"
      ]
    },
    {
      "cell_type": "code",
      "execution_count": 0,
      "metadata": {
        "cellView": "form",
        "colab": {},
        "colab_type": "code",
        "id": "VwzbWw3_CQ2z"
      },
      "outputs": [],
      "source": [
        "#@title posterior_kernel_and_bias\n",
        "def posterior_kernel_and_bias(kernel_size, bias_size=0, dtype=None):\n",
        "  def _make(t):  # Closure: kernel_size, bias_size\n",
        "    loc, raw_scale = tf.split(\n",
        "        t,\n",
        "        [kernel_size + bias_size, kernel_size + bias_size],\n",
        "        axis=-1)\n",
        "    return tfd.Independent(\n",
        "        tfd.Normal(loc=loc, scale=1e-5 + tf.nn.softplus(raw_scale)),\n",
        "        reinterpreted_batch_ndims=1,\n",
        "        name='posterior')\n",
        "  return tf.keras.Sequential([\n",
        "      tf.keras.layers.Lambda(lambda _: tf.ones([1, 1], dtype),\n",
        "                             output_shape=[1, 1]),\n",
        "      tf.keras.layers.Dense(2 * (kernel_size + bias_size), use_bias=False),\n",
        "      tfp.layers.DistributionLambda(_make),\n",
        "  ])"
      ]
    },
    {
      "cell_type": "code",
      "execution_count": 0,
      "metadata": {
        "cellView": "form",
        "colab": {},
        "colab_type": "code",
        "id": "aAQhyK9Y_lm1"
      },
      "outputs": [],
      "source": [
        "#@title prior_trainable_kernel_and_bias\n",
        "def prior_trainable_kernel_and_bias(kernel_size, bias_size=0, dtype=None):\n",
        "  dtype = tf.as_dtype(dtype or tf.keras.backend.floatx())\n",
        "  return tf.keras.Sequential([\n",
        "      tf.keras.layers.Lambda(lambda _: tf.ones([1, 1], dtype),\n",
        "                             output_shape=[1, 1]),\n",
        "      tf.keras.layers.Dense(kernel_size + bias_size, use_bias=False),\n",
        "      tfp.layers.DistributionLambda(\n",
        "          lambda t:tfd.Independent(tfd.Normal(loc=t, scale=1),\n",
        "                                   reinterpreted_batch_ndims=1)),\n",
        "  ])"
      ]
    },
    {
      "cell_type": "code",
      "execution_count": 0,
      "metadata": {
        "cellView": "form",
        "colab": {},
        "colab_type": "code",
        "id": "YBAt2PITI8w5"
      },
      "outputs": [],
      "source": [
        "#@title kldivergence\n",
        "def _make_kl_divergence_penalty(\n",
        "    use_exact_kl=False,\n",
        "    test_points_reduce_axis=(),  # `None` == \"all\"; () == \"none\".\n",
        "    test_points_fn=tf.convert_to_tensor,\n",
        "    weight=None):\n",
        "  \"\"\"Creates a callable computing `KL[a,b]` from `a`, a `tfp.distributions.Distribution`.\"\"\"\n",
        "\n",
        "  if use_exact_kl is None:\n",
        "    kl_divergence_fn = tfp.distributions.kl_divergence\n",
        "  else:\n",
        "    def kl_divergence_fn(distribution_a, distribution_b):\n",
        "      z = test_points_fn(distribution_a)\n",
        "      return tf.reduce_mean(\n",
        "          input_tensor=distribution_a.log_prob(z) - distribution_b.log_prob(z),\n",
        "          axis=test_points_reduce_axis)\n",
        "\n",
        "  # Closure over: kl_divergence_fn, weight.\n",
        "  def _fn(distribution_a, distribution_b):\n",
        "    \"\"\"Closure that computes KLDiv as a function of `a` as in `KL[a, b]`.\"\"\"\n",
        "    with tf.name_scope('kldivergence_loss'):\n",
        "      kl = kl_divergence_fn(distribution_a, distribution_b)\n",
        "      if weight is not None:\n",
        "        kl = tf.cast(weight, dtype=kl.dtype) * kl\n",
        "      # Losses appended with the model.add_loss and are expected to be a single\n",
        "      # scalar, unlike model.loss, which is expected to be the loss per sample.\n",
        "      # Therefore, we reduce over all dimensions, regardless of the shape.\n",
        "      # We take the sum because (apparently) Keras will add this to the *post*\n",
        "      # `reduce_sum` (total) loss.\n",
        "      # TODO(b/126259176): Add end-to-end Keras/TFP test to ensure the API's\n",
        "      # align, particularly wrt how losses are aggregated (across batch\n",
        "      # members).\n",
        "      return tf.reduce_sum(input_tensor=kl, name='batch_total_kl_divergence')\n",
        "\n",
        "  return _fn"
      ]
    },
    {
      "cell_type": "code",
      "execution_count": 0,
      "metadata": {
        "cellView": "form",
        "colab": {},
        "colab_type": "code",
        "id": "E5ChTVPNakpd"
      },
      "outputs": [],
      "source": [
        "#@title DenseVariational\n",
        "class DenseVariational(tf.keras.layers.Layer):\n",
        "\n",
        "  def __init__(self,\n",
        "               units,\n",
        "               activation=None,\n",
        "               num_training_samples=None,\n",
        "               make_posterior_fn=None,\n",
        "               make_prior_fn=None,\n",
        "               use_exact_kl=False,\n",
        "               num_ensembles=1,\n",
        "               use_bias=True,\n",
        "               activity_regularizer=None,\n",
        "               **kwargs):\n",
        "    if 'input_shape' not in kwargs and 'input_dim' in kwargs:\n",
        "      kwargs['input_shape'] = (kwargs.pop('input_dim'),)\n",
        "\n",
        "    super(DenseVariational, self).__init__(\n",
        "        activity_regularizer=tf.keras.regularizers.get(activity_regularizer),\n",
        "        **kwargs)\n",
        "    self.units = int(units)\n",
        "    \n",
        "    if make_posterior_fn is None:\n",
        "      make_posterior_fn = posterior_kernel_and_bias\n",
        "    \n",
        "    if make_prior_fn is None:\n",
        "      make_prior_fn = prior_trainable_kernel_and_bias\n",
        "      \n",
        "    self._make_posterior_fn = make_posterior_fn\n",
        "    self._make_prior_fn = make_prior_fn\n",
        "    self._kl_divergence_fn = _make_kl_divergence_penalty(\n",
        "        use_exact_kl, weight=num_training_samples)\n",
        "\n",
        "    self.activation = tf.keras.activations.get(activation)\n",
        "    self.use_bias = use_bias\n",
        "    self.supports_masking = False\n",
        "    self.input_spec = tf.keras.layers.InputSpec(min_ndim=2)\n",
        "\n",
        "  def build(self, input_shape):\n",
        "    dtype = tf.as_dtype(self.dtype or tf.keras.backend.floatx())\n",
        "    if not (dtype.is_floating or dtype.is_complex):\n",
        "      raise TypeError('Unable to build `Dense` layer with non-floating point '\n",
        "                      'dtype %s' % (dtype,))\n",
        "    input_shape = tf.TensorShape(input_shape)\n",
        "    last_dim = tf.compat.dimension_value(input_shape[-1])\n",
        "    if last_dim is None:\n",
        "      raise ValueError('The last dimension of the inputs to `Dense` '\n",
        "                       'should be defined. Found `None`.')\n",
        "    self.input_spec = tf.keras.layers.InputSpec(\n",
        "        min_ndim=2, axes={-1: last_dim})\n",
        "    num_params = (last_dim + 1 if self.use_bias else 0) * self.units\n",
        "    self._posterior = self._make_posterior_fn(\n",
        "        last_dim * self.units, self.units if self.use_bias else 0, dtype)\n",
        "    self._prior = self._make_prior_fn(\n",
        "        last_dim * self.units, self.units if self.use_bias else 0, dtype)\n",
        "    self.built = True\n",
        "\n",
        "  def call(self, inputs):\n",
        "    dtype = tf.as_dtype(self.dtype or tf.keras.backend.floatx())\n",
        "    inputs = tf.cast(inputs, dtype, name='inputs')\n",
        "\n",
        "    q = self._posterior(inputs)\n",
        "    r = self._prior(inputs)\n",
        "\n",
        "    self.add_loss(self._kl_divergence_fn(q, r))  # FIXME: Divide by batch size?\n",
        "\n",
        "    w = tf.convert_to_tensor(q)\n",
        "    prev_units = self.input_spec.axes[-1]\n",
        "    if self.use_bias:\n",
        "      split_sizes = [prev_units * self.units, self.units]\n",
        "      kernel, bias = tf.split(w, split_sizes, axis=-1)\n",
        "    else:\n",
        "      kernel, bias = w, None\n",
        "\n",
        "    kernel = tf.reshape(kernel, shape=tf.concat([\n",
        "        tf.shape(kernel)[:-1],\n",
        "        [prev_units, self.units],\n",
        "      ], axis=0))\n",
        "    outputs = tf.matmul(inputs, kernel[0])  # FIXME\n",
        "\n",
        "    if self.use_bias:\n",
        "      outputs = tf.nn.bias_add(outputs, bias[0])   # FIXME\n",
        "\n",
        "    if self.activation is not None:\n",
        "      return self.activation(outputs)  # pylint: disable=not-callable\n",
        "\n",
        "    return outputs"
      ]
    },
    {
      "cell_type": "markdown",
      "metadata": {
        "colab_type": "text",
        "id": "-gDA-FnTKBtb"
      },
      "source": [
        "#### User Code"
      ]
    },
    {
      "cell_type": "code",
      "execution_count": 0,
      "metadata": {
        "colab": {
          "height": 54
        },
        "colab_type": "code",
        "executionInfo": {
          "elapsed": 3684,
          "status": "ok",
          "timestamp": 1551735138505,
          "user": {
            "displayName": "",
            "photoUrl": "",
            "userId": ""
          },
          "user_tz": 480
        },
        "id": "XI7ZCFzSnrWN",
        "outputId": "bc8ef48c-9571-415f-8d64-bb394d429923"
      },
      "outputs": [
        {
          "name": "stdout",
          "output_type": "stream",
          "text": [
            "[ 0.15154617  5.1314764  -3.36022925 -0.04659063]\n",
            "[ 0.14133465  5.19568253]\n"
          ]
        }
      ],
      "source": [
        "# Build model.\n",
        "model = tf.keras.Sequential([\n",
        "  DenseVariational(1),\n",
        "  tfp.layers.DistributionLambda(lambda t: tfd.Normal(loc=t, scale=1)),\n",
        "])\n",
        "\n",
        "# Do inference.\n",
        "model.compile(optimizer=tf.optimizers.Adam(learning_rate=0.05), loss=negloglik)\n",
        "model.fit(x, y, epochs=500, verbose=False);\n",
        "\n",
        "# Profit.\n",
        "[print(np.squeeze(w.numpy())) for w in model.weights];\n",
        "yhat = model(x_tst)"
      ]
    },
    {
      "cell_type": "code",
      "execution_count": 0,
      "metadata": {
        "cellView": "form",
        "colab": {
          "height": 132
        },
        "colab_type": "code",
        "executionInfo": {
          "elapsed": 3610,
          "status": "ok",
          "timestamp": 1551735142186,
          "user": {
            "displayName": "",
            "photoUrl": "",
            "userId": ""
          },
          "user_tz": 480
        },
        "id": "Y4Bypix9UvTO",
        "outputId": "1259912c-7610-4579-d642-4c3b4116f5e8"
      },
      "outputs": [
        {
          "data": {
            "image/png": "[encoded data removed]",
            "text/plain": [
              "\u003cmatplotlib.figure.Figure at 0x7f7da96bdad0\u003e"
            ]
          },
          "metadata": {
            "tags": []
          },
          "output_type": "display_data"
        }
      ],
      "source": [
        "#@title Figure 3: Epistemic Uncertainty\n",
        "plt.figure(figsize=[6, 1.5])  # inches\n",
        "plt.clf();\n",
        "plt.plot(x, y, 'b.', label='observed');\n",
        "\n",
        "yhats = [model(x_tst) for _ in range(100)]\n",
        "avgm = np.zeros_like(x_tst[..., 0])\n",
        "for i, yhat in enumerate(yhats):\n",
        "  m = np.squeeze(yhat.mean())\n",
        "  s = np.squeeze(yhat.stddev())\n",
        "  if i \u003c 25:\n",
        "    plt.plot(x_tst, m, 'r', label='fit', linewidth=0.5)\n",
        "  avgm += m\n",
        "plt.plot(x_tst, avgm/len(yhats), 'r', label='fit', linewidth=4)\n",
        "\n",
        "plt.ylim(-0.,17);\n",
        "plt.yticks(np.linspace(0, 15, 4)[1:]);\n",
        "plt.xticks(np.linspace(*x_range, num=9));\n",
        "\n",
        "ax=plt.gca();\n",
        "ax.xaxis.set_ticks_position('bottom')\n",
        "ax.yaxis.set_ticks_position('left')\n",
        "ax.spines['left'].set_position(('data', 0))\n",
        "ax.spines['top'].set_visible(False)\n",
        "ax.spines['right'].set_visible(False)\n",
        "#ax.spines['left'].set_smart_bounds(True)\n",
        "#ax.spines['bottom'].set_smart_bounds(True)\n",
        "\n",
        "plt.savefig('/tmp/fig3.png', bbox_inches='tight', dpi=300)"
      ]
    },
    {
      "cell_type": "markdown",
      "metadata": {
        "colab_type": "text",
        "id": "H_3At7s2fel0"
      },
      "source": [
        "### Case 4: Aleatoric \u0026 Epistemic Uncertainty"
      ]
    },
    {
      "cell_type": "code",
      "execution_count": 0,
      "metadata": {
        "colab": {
          "height": 72
        },
        "colab_type": "code",
        "executionInfo": {
          "elapsed": 4270,
          "status": "ok",
          "timestamp": 1551735146506,
          "user": {
            "displayName": "",
            "photoUrl": "",
            "userId": ""
          },
          "user_tz": 480
        },
        "id": "GcRC3uwcft6l",
        "outputId": "91431975-2094-49cc-fe9c-afbd036ca599"
      },
      "outputs": [
        {
          "name": "stdout",
          "output_type": "stream",
          "text": [
            "[ 0.10435035  4.00433397  5.29491043  4.29234982 -3.04728794  0.22340481\n",
            " -0.25439805  0.48050281]\n",
            "[ 0.20438232  4.24783564  5.20856857  4.21136808]\n"
          ]
        }
      ],
      "source": [
        "# Build model.\n",
        "model = tf.keras.Sequential([\n",
        "  DenseVariational(1 + 1),\n",
        "  tfp.layers.DistributionLambda(lambda t: tfd.Normal(\n",
        "      loc=t[..., :1],\n",
        "      scale=1e-3 + tf.math.softplus(0.01 * t[...,1:]))),\n",
        "])\n",
        "\n",
        "# Do inference.\n",
        "model.compile(optimizer=tf.optimizers.Adam(learning_rate=0.05), loss=negloglik)\n",
        "model.fit(x, y, epochs=500, verbose=False);\n",
        "\n",
        "# Profit.\n",
        "[print(np.squeeze(w.numpy())) for w in model.weights];\n",
        "yhat = model(x_tst)"
      ]
    },
    {
      "cell_type": "code",
      "execution_count": 0,
      "metadata": {
        "cellView": "form",
        "colab": {
          "height": 132
        },
        "colab_type": "code",
        "executionInfo": {
          "elapsed": 8696,
          "status": "ok",
          "timestamp": 1551735155260,
          "user": {
            "displayName": "",
            "photoUrl": "",
            "userId": ""
          },
          "user_tz": 480
        },
        "id": "cWhfYYzcgFak",
        "outputId": "1b7a8db9-55d9-4bab-c110-fb9699d9ff87"
      },
      "outputs": [
        {
          "data": {
            "image/png": "[encoded data removed]",
            "text/plain": [
              "\u003cmatplotlib.figure.Figure at 0x7f7da6d227d0\u003e"
            ]
          },
          "metadata": {
            "tags": []
          },
          "output_type": "display_data"
        }
      ],
      "source": [
        "#@title Figure 4: Both Aleatoric \u0026 Epistemic Uncertainty\n",
        "plt.figure(figsize=[6, 1.5])  # inches\n",
        "plt.plot(x, y, 'b.', label='observed');\n",
        "\n",
        "yhats = [model(x_tst) for _ in range(100)]\n",
        "avgm = np.zeros_like(x_tst[..., 0])\n",
        "for i, yhat in enumerate(yhats):\n",
        "  m = np.squeeze(yhat.mean())\n",
        "  s = np.squeeze(yhat.stddev())\n",
        "  if i \u003c 15:\n",
        "    plt.plot(x_tst, m, 'r', label='fit', linewidth=1.)\n",
        "    plt.plot(x_tst, m + 2 * s, 'g', linewidth=0.5, label=r'$\\mu+\\sigma$');\n",
        "    plt.plot(x_tst, m - 2 * s, 'g', linewidth=0.5, label=r'$\\mu-\\sigma$');\n",
        "  avgm += m\n",
        "plt.plot(x_tst, avgm/len(yhats), 'r', label='fit', linewidth=4)\n",
        "\n",
        "plt.ylim(-0.,17);\n",
        "plt.yticks(np.linspace(0, 15, 4)[1:]);\n",
        "plt.xticks(np.linspace(*x_range, num=9));\n",
        "\n",
        "ax=plt.gca();\n",
        "ax.xaxis.set_ticks_position('bottom')\n",
        "ax.yaxis.set_ticks_position('left')\n",
        "ax.spines['left'].set_position(('data', 0))\n",
        "ax.spines['top'].set_visible(False)\n",
        "ax.spines['right'].set_visible(False)\n",
        "#ax.spines['left'].set_smart_bounds(True)\n",
        "#ax.spines['bottom'].set_smart_bounds(True)\n",
        "\n",
        "plt.savefig('/tmp/fig4.png', bbox_inches='tight', dpi=300)"
      ]
    }
  ],
  "metadata": {
    "colab": {
      "collapsed_sections": [
        "5HiRE1fOJ23z"
      ],
      "last_runtime": {
        "build_target": "",
        "kind": "local"
      },
      "name": "Probabilistic_Layers_Regression.ipynb",
      "provenance": [
        {
          "file_id": "1KnuTjdi8udCLZDfe9hufjFg01FXDLYHQ",
          "timestamp": 1550986742534
        }
      ],
      "version": "0.3.2"
    },
    "kernelspec": {
      "display_name": "Python 2",
      "name": "python2"
    }
  },
  "nbformat": 4,
  "nbformat_minor": 0
}
