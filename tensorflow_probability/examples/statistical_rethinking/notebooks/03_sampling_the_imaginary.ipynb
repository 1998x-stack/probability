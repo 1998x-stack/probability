{
 "cells": [
  {
   "cell_type": "markdown",
   "metadata": {},
   "source": [
    "##### Copyright 2020 The TensorFlow Authors.\n",
    "\n",
    "Licensed under the Apache License, Version 2.0 (the \"License\");"
   ]
  },
  {
   "cell_type": "code",
   "execution_count": 1,
   "metadata": {},
   "outputs": [],
   "source": [
    "#@title Licensed under the Apache License, Version 2.0 (the \"License\"); { display-mode: \"form\" }\n",
    "# you may not use this file except in compliance with the License.\n",
    "# You may obtain a copy of the License at\n",
    "#\n",
    "# https://www.apache.org/licenses/LICENSE-2.0\n",
    "#\n",
    "# Unless required by applicable law or agreed to in writing, software\n",
    "# distributed under the License is distributed on an \"AS IS\" BASIS,\n",
    "# WITHOUT WARRANTIES OR CONDITIONS OF ANY KIND, either express or implied.\n",
    "# See the License for the specific language governing permissions and\n",
    "# limitations under the License."
   ]
  },
  {
   "cell_type": "markdown",
   "metadata": {
    "colab_type": "text",
    "id": "V33An_hTR-12"
   },
   "source": [
    "# Chapter 3 - Sampling the Imaginary\n",
    "\n",
    "<table class=\"tfo-notebook-buttons\" align=\"left\">\n",
    "  <td>\n",
    "    <a target=\"_blank\" href=\"https://www.tensorflow.org/probability/examples/statistical_rethinking/notebooks/03_sampling_the_imaginary\"><img src=\"https://www.tensorflow.org/images/tf_logo_32px.png\" />View on TensorFlow.org</a>\n",
    "  </td>\n",
    "  <td>\n",
    "    <a target=\"_blank\" href=\"https://colab.research.google.com/github/tensorflow/probability/blob/master/tensorflow_probability/examples/statistical_rethinking/notebooks/03_sampling_the_imaginary.ipynb\"><img src=\"https://www.tensorflow.org/images/colab_logo_32px.png\" />Run in Google Colab</a>\n",
    "  </td>\n",
    "  <td>\n",
    "    <a target=\"_blank\" href=\"https://github.com/tensorflow/probability/blob/master/tensorflow_probability/examples/statistical_rethinking/notebooks/03_sampling_the_imaginary.ipynb\"><img src=\"https://www.tensorflow.org/images/GitHub-Mark-32px.png\" />View source on GitHub</a>\n",
    "  </td>\n",
    "  <td>\n",
    "    <a href=\"https://storage.googleapis.com/tensorflow_docs/probability/examples/statistical_rethinking/notebooks/03_sampling_the_imaginary.ipynb\"><img src=\"https://www.tensorflow.org/images/download_logo_32px.png\" />Download notebook</a>\n",
    "  </td>\n",
    "</table>"
   ]
  },
  {
   "cell_type": "markdown",
   "metadata": {
    "colab_type": "text",
    "id": "e-oEYYBtR-15"
   },
   "source": [
    "## Imports and utility functions\n"
   ]
  },
  {
   "cell_type": "code",
   "execution_count": 2,
   "metadata": {},
   "outputs": [],
   "source": [
    "#@title Install { display-mode: \"form\" }\n",
    "TF_Installation = 'System' #@param ['TF Nightly', 'TF Stable', 'System']\n",
    "\n",
    "if TF_Installation == 'TF Nightly':\n",
    "  !pip install -q --upgrade tf-nightly\n",
    "  print('Installation of `tf-nightly` complete.')\n",
    "elif TF_Installation == 'TF Stable':\n",
    "  !pip install -q --upgrade tensorflow\n",
    "  print('Installation of `tensorflow` complete.')\n",
    "elif TF_Installation == 'System':\n",
    "  pass\n",
    "else:\n",
    "  raise ValueError('Selection Error: Please select a valid '\n",
    "                   'installation option.')"
   ]
  },
  {
   "cell_type": "code",
   "execution_count": 3,
   "metadata": {
    "colab": {
     "base_uri": "https://localhost:8080/",
     "height": 1000
    },
    "colab_type": "code",
    "id": "cMzcPgVtR-16",
    "outputId": "577a865d-7586-4375-aed8-e822280d94ac"
   },
   "outputs": [],
   "source": [
    "# Install packages that are not installed in colab\n",
    "try:\n",
    "  import google.colab\n",
    "  IN_COLAB = True\n",
    "except:\n",
    "  IN_COLAB = False\n",
    "\n",
    "if IN_COLAB:\n",
    "    print(\"Installing arviz ...\")\n",
    "    !pip install -q arviz"
   ]
  },
  {
   "cell_type": "code",
   "execution_count": 4,
   "metadata": {
    "colab": {},
    "colab_type": "code",
    "id": "RF7a5tCaR-2K"
   },
   "outputs": [],
   "source": [
    "# Core\n",
    "import numpy as np\n",
    "import arviz as az\n",
    "import pandas as pd\n",
    "import tensorflow as tf\n",
    "import tensorflow_probability as tfp\n",
    "import scipy.stats as stats\n",
    "\n",
    "# visualization \n",
    "import matplotlib.pyplot as plt\n",
    "\n",
    "# aliases\n",
    "tfd = tfp.distributions"
   ]
  },
  {
   "cell_type": "code",
   "execution_count": 5,
   "metadata": {},
   "outputs": [],
   "source": [
    "az.style.use('seaborn-colorblind')"
   ]
  },
  {
   "cell_type": "markdown",
   "metadata": {
    "colab_type": "text",
    "id": "VzHqoXwtR-2m"
   },
   "source": [
    "# Introduction"
   ]
  },
  {
   "cell_type": "markdown",
   "metadata": {
    "colab_type": "text",
    "id": "vMt0Fb_oR-2n"
   },
   "source": [
    "We are interested in a blood test that correctly detects vampirisim 95% of time:\n",
    "\n",
    "$Pr(Positive|Vampire)$ = 0.95\n",
    "\n",
    "The test has a false positive rate of:\n",
    "\n",
    "$Pr(Positive|Mortal)$ = 0.01\n",
    "\n",
    "We also know that vampires are rare--about 0.1% of population:\n",
    "\n",
    "$Pr(Vampire)$ = 0.001\n",
    "\n",
    "To compute $Pr(Vampire|Positive)$ we will apply the Bayes' rule:\n",
    "\n",
    "$Pr(Vampire|Positive) = \\frac{Pr(Positive|Vampire) * Pr(Vampire)}{Pr(Positive)}$"
   ]
  },
  {
   "cell_type": "markdown",
   "metadata": {
    "colab_type": "text",
    "id": "20qfjf_fR-2o"
   },
   "source": [
    "##### Code 3.1"
   ]
  },
  {
   "cell_type": "code",
   "execution_count": 6,
   "metadata": {
    "colab": {
     "base_uri": "https://localhost:8080/",
     "height": 34
    },
    "colab_type": "code",
    "id": "E3ascQZwR-2q",
    "outputId": "e021ac35-7ab2-4b8f-877a-27789f34ec50"
   },
   "outputs": [
    {
     "data": {
      "text/plain": [
       "0.08683729433272395"
      ]
     },
     "execution_count": 6,
     "metadata": {},
     "output_type": "execute_result"
    }
   ],
   "source": [
    "Pr_Positive_Vampire = 0.95\n",
    "Pr_Positive_Mortal = 0.01\n",
    "Pr_Vampire = 0.001\n",
    "tmp = Pr_Positive_Vampire * Pr_Vampire\n",
    "Pr_Positive = tmp + Pr_Positive_Mortal * (1 - Pr_Vampire)\n",
    "Pr_Vampire_Positive = tmp / Pr_Positive\n",
    "Pr_Vampire_Positive"
   ]
  },
  {
   "cell_type": "markdown",
   "metadata": {
    "colab_type": "text",
    "id": "uc665rPKR-2w"
   },
   "source": [
    "This result shows that there is only 8.7% chance that suspect is vampire even if the test is positive, because of the low incidence rate (prior probability)."
   ]
  },
  {
   "cell_type": "markdown",
   "metadata": {
    "colab_type": "text",
    "id": "uiKda961R-2x"
   },
   "source": [
    "## 3.1 Sampling from a grid-approximate posterior"
   ]
  },
  {
   "cell_type": "markdown",
   "metadata": {
    "colab_type": "text",
    "id": "UNu7Ql7IR-2z"
   },
   "source": [
    "##### Code 3.2\n",
    "\n",
    "Let's compute the posterior for the globe tossing model, the probability of *p* conditional on the data: "
   ]
  },
  {
   "cell_type": "code",
   "execution_count": 7,
   "metadata": {
    "colab": {},
    "colab_type": "code",
    "id": "VccHwZjoR-20"
   },
   "outputs": [],
   "source": [
    "p_grid = tf.linspace(start=0., stop=1., num=1000)\n",
    "prob_p = tf.repeat(1., 1000)\n",
    "prob_data = tfd.Binomial(total_count=9, probs=p_grid).prob(6)\n",
    "joint_prob = prob_data * prob_p\n",
    "posterior = joint_prob / tf.reduce_sum(joint_prob)"
   ]
  },
  {
   "cell_type": "markdown",
   "metadata": {
    "colab_type": "text",
    "id": "qvLgHilaR-26"
   },
   "source": [
    "\n",
    "\n",
    "We now wish to draw 10000 samples from the posterior :\n",
    "\n",
    "##### Code 3.3"
   ]
  },
  {
   "cell_type": "code",
   "execution_count": 8,
   "metadata": {
    "colab": {},
    "colab_type": "code",
    "id": "4nKQJLZiR-27"
   },
   "outputs": [],
   "source": [
    "samples = tfd.Categorical(probs=posterior).sample(10_000)"
   ]
  },
  {
   "cell_type": "markdown",
   "metadata": {
    "colab_type": "text",
    "id": "O-9wh9ZxR-3E"
   },
   "source": [
    "Now let's display the resulting samples:\n",
    "\n",
    "##### Code 3.4\n",
    "\n"
   ]
  },
  {
   "cell_type": "code",
   "execution_count": 9,
   "metadata": {
    "colab": {
     "base_uri": "https://localhost:8080/",
     "height": 424
    },
    "colab_type": "code",
    "id": "QAKYs5ZXR-3G",
    "outputId": "8d7c5107-aa48-403c-d07a-c4e9c89aeb2d"
   },
   "outputs": [
    {
     "data": {
      "image/png": "[encoded data removed]",
      "text/plain": [
       "<Figure size 432x288 with 1 Axes>"
      ]
     },
     "metadata": {
      "needs_background": "light"
     },
     "output_type": "display_data"
    }
   ],
   "source": [
    "sample_rows = p_grid.numpy()[samples]\n",
    "plt.scatter(range(len(sample_rows)), sample_rows, alpha=0.2);"
   ]
  },
  {
   "cell_type": "markdown",
   "metadata": {
    "colab_type": "text",
    "id": "7WMQQvNQR-3L"
   },
   "source": [
    "As the plot shows, there are many samples in the 0.6 region and very few below 0.25."
   ]
  },
  {
   "cell_type": "markdown",
   "metadata": {
    "colab_type": "text",
    "id": "eXI4sm3YR-3M"
   },
   "source": [
    "\n",
    "Here's the density estimate of these samples, which is very similar to the ideal posterior you computed via grid approximation in Chapter 2, section 2.4.3.\n",
    "\n",
    "##### Code 3.5\n"
   ]
  },
  {
   "cell_type": "code",
   "execution_count": 10,
   "metadata": {
    "colab": {
     "base_uri": "https://localhost:8080/",
     "height": 508
    },
    "colab_type": "code",
    "id": "VcHmWurgR-3O",
    "outputId": "627f266d-93cd-4059-cc71-a72da01536e5"
   },
   "outputs": [
    {
     "data": {
      "image/png": "[encoded data removed]",
      "text/plain": [
       "<Figure size 432x288 with 1 Axes>"
      ]
     },
     "metadata": {
      "needs_background": "light"
     },
     "output_type": "display_data"
    }
   ],
   "source": [
    "az.plot_density({\"\": sample_rows}, hdi_prob=1);"
   ]
  },
  {
   "cell_type": "markdown",
   "metadata": {
    "colab_type": "text",
    "id": "D_sGUGSWR-3U"
   },
   "source": [
    "## 3.2 Sampling to summarize\n",
    "\n",
    "Once we have the posterior distribution the next step is to summarize it. Some of the common tasks are:\n",
    "\n",
    ">* How much posterior probability lies below some parameter value?\n",
    "* How much posterior probability lies between two parameter values?\n",
    "* Which parameter value marks the lower 5% of the posterior probability?\n",
    "* Which range of parameter values contains 90% of the posterior probability? \n",
    "* Which parameter value has highest posterior probability?\n",
    "\n",
    ">These simple questions can be usefully divided into questions about (1) intervals of defined boundaries, (2) questions about intervals of defined probability mass, and (3) questions about point estimates. We’ll see how to approach these questions using samples from the posterior."
   ]
  },
  {
   "cell_type": "markdown",
   "metadata": {
    "colab_type": "text",
    "id": "5v8l9cDOR-3V"
   },
   "source": [
    "### 3.2.1 Intervals of defined boundaries\n",
    "\n",
    "What is the posterior probability that proportion of water is less than 0.5?  We can simply sum all of the probabilities where the parameter value is less than 0.5."
   ]
  },
  {
   "cell_type": "markdown",
   "metadata": {
    "colab_type": "text",
    "id": "d-yLKJceR-3W"
   },
   "source": [
    "Let's add up the posterior probability where p < 0.5:\n",
    "\n",
    "##### Code 3.6\n",
    "\n"
   ]
  },
  {
   "cell_type": "code",
   "execution_count": 11,
   "metadata": {
    "colab": {
     "base_uri": "https://localhost:8080/",
     "height": 34
    },
    "colab_type": "code",
    "id": "OKK9FiINR-3X",
    "outputId": "70ec3266-f226-40c0-9a9d-688312da69e1"
   },
   "outputs": [
    {
     "data": {
      "text/plain": [
       "<tf.Tensor: shape=(), dtype=float32, numpy=0.1718746>"
      ]
     },
     "execution_count": 11,
     "metadata": {},
     "output_type": "execute_result"
    }
   ],
   "source": [
    "tf.reduce_sum(posterior[p_grid < 0.5])"
   ]
  },
  {
   "cell_type": "markdown",
   "metadata": {
    "colab_type": "text",
    "id": "3mMvqOKmR-3b"
   },
   "source": [
    "This means that about 17% of posterior probability is below 0.5.\n"
   ]
  },
  {
   "cell_type": "markdown",
   "metadata": {
    "colab_type": "text",
    "id": "H3iM1BInR-3c"
   },
   "source": [
    "Now let's find the frequency of parameter values below 0.5:\n",
    "\n",
    "##### Code 3.7\n",
    "\n"
   ]
  },
  {
   "cell_type": "code",
   "execution_count": 12,
   "metadata": {
    "colab": {
     "base_uri": "https://localhost:8080/",
     "height": 34
    },
    "colab_type": "code",
    "id": "cKbf6goIR-3d",
    "outputId": "8cbf3548-eaed-4d36-a708-dd40b5bc1ebe"
   },
   "outputs": [
    {
     "data": {
      "text/plain": [
       "0.1677"
      ]
     },
     "execution_count": 12,
     "metadata": {},
     "output_type": "execute_result"
    }
   ],
   "source": [
    "tf.where(sample_rows < 0.5).shape[0] / 10_000"
   ]
  },
  {
   "cell_type": "markdown",
   "metadata": {
    "colab_type": "text",
    "id": "Ag1KvKOCR-3m"
   },
   "source": [
    "This is nearly the same answer as that of grid approximation, in Code 3.6,"
   ]
  },
  {
   "cell_type": "markdown",
   "metadata": {
    "colab_type": "text",
    "id": "7KpXBOi1R-3n"
   },
   "source": [
    "Using the same approach, how much posterior probability lies between 0.5 and 0.75?\n",
    "\n",
    "##### Code 3.8\n"
   ]
  },
  {
   "cell_type": "code",
   "execution_count": 13,
   "metadata": {
    "colab": {
     "base_uri": "https://localhost:8080/",
     "height": 34
    },
    "colab_type": "code",
    "id": "YkltM9HyR-3o",
    "outputId": "7c102c20-d317-46a0-c650-a1c9f1e8e54f"
   },
   "outputs": [
    {
     "data": {
      "text/plain": [
       "0.6103"
      ]
     },
     "execution_count": 13,
     "metadata": {},
     "output_type": "execute_result"
    }
   ],
   "source": [
    "condition = (sample_rows > 0.5) & (sample_rows < 0.75)\n",
    "tf.where(condition == True).shape[0] / 10_000"
   ]
  },
  {
   "cell_type": "markdown",
   "metadata": {
    "colab_type": "text",
    "id": "UEpbVzf-R-3u"
   },
   "source": [
    "### 3.2.2 Intervals of defined mass\n",
    "\n",
    "Scientific journals will commonly report on an \"interval of defined mass\" also known as a *Confidence Interval*. The text will use the term *Compatiblity Interval* instead, since the interval indicates a range of parameter values *compatible* with the model and data."
   ]
  },
  {
   "cell_type": "markdown",
   "metadata": {
    "colab_type": "text",
    "id": "Sa2X4HnoR-3v"
   },
   "source": [
    "If we want to know what interval of parameter values contains 80% of the probability mass, we can simply examine the samples from the posterior, with an interval starting at *p*=0 until we have reached the 80th percentile.\n",
    "\n",
    "##### Code 3.9\n",
    "\n"
   ]
  },
  {
   "cell_type": "code",
   "execution_count": 14,
   "metadata": {
    "colab": {
     "base_uri": "https://localhost:8080/",
     "height": 34
    },
    "colab_type": "code",
    "id": "u6q7fbtRR-3y",
    "outputId": "83848c1b-1948-4180-9271-cff8ebad6fa0"
   },
   "outputs": [
    {
     "data": {
      "text/plain": [
       "<tf.Tensor: shape=(), dtype=float32, numpy=0.7597597>"
      ]
     },
     "execution_count": 14,
     "metadata": {},
     "output_type": "execute_result"
    }
   ],
   "source": [
    "tfp.stats.percentile(sample_rows, q=80.)"
   ]
  },
  {
   "cell_type": "markdown",
   "metadata": {
    "colab_type": "text",
    "id": "KaSBqySER-34"
   },
   "source": [
    "\n",
    "Similarly, the middle 80% interval lies between the 10th percentile and the 90th percentile:\n",
    "\n",
    "##### Code 3.10\n"
   ]
  },
  {
   "cell_type": "code",
   "execution_count": 15,
   "metadata": {
    "colab": {
     "base_uri": "https://localhost:8080/",
     "height": 34
    },
    "colab_type": "code",
    "id": "ZSF8P2ksR-35",
    "outputId": "032ad6dd-3c39-49f2-826a-661b9f7219b7"
   },
   "outputs": [
    {
     "data": {
      "text/plain": [
       "<tf.Tensor: shape=(2,), dtype=float32, numpy=array([0.45245245, 0.8128128 ], dtype=float32)>"
      ]
     },
     "execution_count": 15,
     "metadata": {},
     "output_type": "execute_result"
    }
   ],
   "source": [
    "tfp.stats.percentile(sample_rows, q=[10.,90.])"
   ]
  },
  {
   "cell_type": "markdown",
   "metadata": {
    "colab_type": "text",
    "id": "mBwVThXvR-39"
   },
   "source": [
    "The text refers to intervals like this, which assign equal probability mass to each tail, as *Percentile Intervals*. They can be useful to characterize a distribution if it is fairly symmetrical. \n",
    "\n",
    "By contrast, consider a highly skewed distribution with a maximum value at *p*=1, like the posterior for observing three waters in three tosses with a uniform prior. We can compute this posterior using grid approximation:\n",
    "\n",
    "##### Code 3.11\n",
    "\n"
   ]
  },
  {
   "cell_type": "code",
   "execution_count": 16,
   "metadata": {
    "colab": {},
    "colab_type": "code",
    "id": "X8VNpMLiR-3-"
   },
   "outputs": [],
   "source": [
    "p_grid = tf.linspace(start=0., stop=1., num=1000)\n",
    "prior = tf.repeat(1., 1000)\n",
    "likelihood = tfd.Binomial(total_count=3, probs=p_grid).prob(3)\n",
    "joint_prob = likelihood * prior\n",
    "posterior = joint_prob / tf.reduce_sum(joint_prob)\n",
    "\n",
    "samples = tfd.Categorical(probs=posterior).sample(10_000)\n",
    "sample_rows = p_grid.numpy()[samples]"
   ]
  },
  {
   "cell_type": "markdown",
   "metadata": {
    "colab_type": "text",
    "id": "kt_hdKyzR-4B"
   },
   "source": [
    "Let's compute a 50% percentile compatibility interval that provides the central 50% probability by assigning 25% of the probability below the interval, and 25% above it:\n",
    "\n",
    "##### Code 3.12\n",
    "\n"
   ]
  },
  {
   "cell_type": "code",
   "execution_count": 17,
   "metadata": {
    "colab": {
     "base_uri": "https://localhost:8080/",
     "height": 34
    },
    "colab_type": "code",
    "id": "dsRLAsSgR-4C",
    "outputId": "6e8a0227-347a-4a8e-d3da-27310e6b1380"
   },
   "outputs": [
    {
     "data": {
      "text/plain": [
       "<tf.Tensor: shape=(2,), dtype=float32, numpy=array([0.7047047, 0.9319319], dtype=float32)>"
      ]
     },
     "execution_count": 17,
     "metadata": {},
     "output_type": "execute_result"
    }
   ],
   "source": [
    "tfp.stats.percentile(sample_rows, q=[25.,75.])"
   ]
  },
  {
   "cell_type": "markdown",
   "metadata": {
    "colab_type": "text",
    "id": "SQLv2ubaR-4G"
   },
   "source": [
    "Given the assymetric shape of the distribution, this interval is misleading because it fails to contain the most probable parameter values at *p*=1.\n"
   ]
  },
  {
   "cell_type": "markdown",
   "metadata": {
    "colab_type": "text",
    "id": "k9Y_OvNVR-4H"
   },
   "source": [
    "The *Highest Posterior Density Interval* (HPDI) is the narrowest interval containing the specified probability mass, which always contains the most probable parameter value.\n",
    "\n",
    "We can use arviz to compute it:\n",
    "\n",
    "##### Code 3.13\n",
    "\n"
   ]
  },
  {
   "cell_type": "code",
   "execution_count": 18,
   "metadata": {
    "colab": {
     "base_uri": "https://localhost:8080/"
    },
    "colab_type": "code",
    "id": "eZBumJuiR-4I",
    "outputId": "29dc30ce-c896-4d3d-8a4e-cfe0a2a513f3"
   },
   "outputs": [
    {
     "data": {
      "text/plain": [
       "array([0.8408408, 1.       ], dtype=float32)"
      ]
     },
     "execution_count": 18,
     "metadata": {},
     "output_type": "execute_result"
    }
   ],
   "source": [
    "az.hdi(sample_rows, hdi_prob=0.5)"
   ]
  },
  {
   "cell_type": "markdown",
   "metadata": {
    "colab_type": "text",
    "id": "kBYEz8ztR-4N"
   },
   "source": [
    "### 3.2.3 Point Estimates\n",
    "\n",
    "How can we use the posterior distribution to create a point estimate to summarize the distribution for getting three waters from three tosses? Let's compare three different types of point estimates."
   ]
  },
  {
   "cell_type": "markdown",
   "metadata": {
    "colab_type": "text",
    "id": "PvtPAI_AR-4O"
   },
   "source": [
    "##### Code 3.14\n",
    "\n",
    "The *maximum a posteriori* (MAP) estimate is the parameter value with the high posterior probability."
   ]
  },
  {
   "cell_type": "code",
   "execution_count": 19,
   "metadata": {
    "colab": {
     "base_uri": "https://localhost:8080/"
    },
    "colab_type": "code",
    "id": "k_W1DZgBR-4P",
    "outputId": "984c8e3d-51df-43f4-d9d4-f32b7481feef"
   },
   "outputs": [
    {
     "data": {
      "text/plain": [
       "<tf.Tensor: shape=(1,), dtype=float32, numpy=array([1.], dtype=float32)>"
      ]
     },
     "execution_count": 19,
     "metadata": {},
     "output_type": "execute_result"
    }
   ],
   "source": [
    "p_grid[posterior == max(posterior)]"
   ]
  },
  {
   "cell_type": "markdown",
   "metadata": {
    "colab_type": "text",
    "id": "cN0MfWq6R-4T"
   },
   "source": [
    "\n",
    "\n",
    "\n",
    "\n",
    "With our samples from the posterior, we can approximate the MAP:\n",
    "##### Code 3.15\n",
    "\n"
   ]
  },
  {
   "cell_type": "code",
   "execution_count": 20,
   "metadata": {
    "colab": {
     "base_uri": "https://localhost:8080/"
    },
    "colab_type": "code",
    "id": "CrNSZo2rR-4U",
    "outputId": "8afbffbe-55e7-42c2-d5fe-f6076d750b0c"
   },
   "outputs": [
    {
     "data": {
      "text/plain": [
       "<tf.Tensor: shape=(), dtype=float32, numpy=1.0>"
      ]
     },
     "execution_count": 20,
     "metadata": {},
     "output_type": "execute_result"
    }
   ],
   "source": [
    "# to obtain mode (maximum) we use q=100.\n",
    "tfp.stats.percentile(sample_rows, q=100.)"
   ]
  },
  {
   "cell_type": "markdown",
   "metadata": {
    "colab_type": "text",
    "id": "E4Df7GOOR-4X"
   },
   "source": [
    "We can also compute the posterior mean and median.\n",
    "\n",
    "##### Code 3.16\n",
    "\n",
    "\n",
    "\n"
   ]
  },
  {
   "cell_type": "code",
   "execution_count": 21,
   "metadata": {
    "colab": {
     "base_uri": "https://localhost:8080/"
    },
    "colab_type": "code",
    "id": "8HpNbzd3R-4Y",
    "outputId": "8dd61c32-3c3b-4a97-aa6c-cf06a4ea116f"
   },
   "outputs": [
    {
     "name": "stdout",
     "output_type": "stream",
     "text": [
      "median=0.8408408164978027, mean=0.7999353408813477\n"
     ]
    }
   ],
   "source": [
    "median = tfp.stats.percentile(sample_rows, q=50.)\n",
    "\n",
    "mean = tf.math.reduce_mean(sample_rows)\n",
    "\n",
    "print(f\"median={median}, mean={mean}\")"
   ]
  },
  {
   "cell_type": "markdown",
   "metadata": {
    "colab_type": "text",
    "id": "JkAbVtN4R-4c"
   },
   "source": [
    "We can use a loss function to compute the cost of using any specific point estimate. Suppose our loss function is proportional to the difference between our decision (e.g., our point estimate) and the true value of the parameter.\n",
    "\n",
    "If we chose *p*=0.5 as our decision for the parameter value, we can use the posterior distribution to compute the expected loss, by computing the weighted average loss: We weight each loss by its corresponding posterior probability:\n",
    "\n",
    "\n",
    "##### Code 3.17\n",
    "\n"
   ]
  },
  {
   "cell_type": "code",
   "execution_count": 22,
   "metadata": {
    "colab": {
     "base_uri": "https://localhost:8080/"
    },
    "colab_type": "code",
    "id": "oOrwlpCvR-4c",
    "outputId": "07e766a6-aa0c-4d4c-f954-65715f074f97"
   },
   "outputs": [
    {
     "data": {
      "text/plain": [
       "<tf.Tensor: shape=(), dtype=float32, numpy=0.31287518>"
      ]
     },
     "execution_count": 22,
     "metadata": {},
     "output_type": "execute_result"
    }
   ],
   "source": [
    "tf.reduce_sum(posterior * abs(0.5 - p_grid))"
   ]
  },
  {
   "cell_type": "markdown",
   "metadata": {
    "colab_type": "text",
    "id": "HGETHvmxR-4f"
   },
   "source": [
    "We can repeat this loss computation for every possible decision:\n",
    "##### Code 3.18\n",
    "\n"
   ]
  },
  {
   "cell_type": "code",
   "execution_count": 23,
   "metadata": {
    "colab": {},
    "colab_type": "code",
    "id": "fNkSz11iR-4g"
   },
   "outputs": [],
   "source": [
    "loss = list(map(lambda d: tf.reduce_sum(posterior * np.abs(d - p_grid)), p_grid))"
   ]
  },
  {
   "cell_type": "markdown",
   "metadata": {
    "colab_type": "text",
    "id": "Ux2nQxwXR-4k"
   },
   "source": [
    "##### Code 3.19\n",
    "\n",
    "Now, we can find the parameter value that minimizes the loss."
   ]
  },
  {
   "cell_type": "code",
   "execution_count": 24,
   "metadata": {
    "colab": {
     "base_uri": "https://localhost:8080/"
    },
    "colab_type": "code",
    "id": "k2vEVVPgR-4k",
    "outputId": "c39f87a1-c3b2-4da5-e470-822d1b75813f"
   },
   "outputs": [
    {
     "data": {
      "text/plain": [
       "<tf.Tensor: shape=(), dtype=float32, numpy=0.8408408>"
      ]
     },
     "execution_count": 24,
     "metadata": {},
     "output_type": "execute_result"
    }
   ],
   "source": [
    "p_grid[tf.math.argmin(loss)]"
   ]
  },
  {
   "cell_type": "markdown",
   "metadata": {
    "colab_type": "text",
    "id": "62HS0I6rR-4o"
   },
   "source": [
    "It turns out that the value that minimizes our loss will be the same as that for the posterior median, which splits the posterior density so that half the mass is above it, with half below it."
   ]
  },
  {
   "cell_type": "markdown",
   "metadata": {
    "colab_type": "text",
    "id": "fTR3IhT_R-4p"
   },
   "source": [
    "## 3.3 Sampling to simulate prediction\n",
    "\n",
    "\n",
    "We can use our Bayesian models to produce simulated observations, since all Bayesian models are generative."
   ]
  },
  {
   "cell_type": "markdown",
   "metadata": {
    "colab_type": "text",
    "id": "oqPdGSsyR-4p"
   },
   "source": [
    "### 3.3.1 Dummy data\n",
    "\n",
    ">We will call such simulated data *dummy data*, to indicate that it is a stand-in for actual data.\n",
    "\n",
    "Recall from the globe tossing model that the probability of observing *W* counts of water in *N* tosses with proportion of water *p* is given by the binomial likelihood:\n",
    "\n",
    "$Pr(W|N,p) = \\frac{N!}{W!(N-W)!}p^W(1-p)^{N-W}$\n",
    "\n",
    "For two tosses of the globe and proportion of water at 0.7 we can compute the probability of observing 0, 1, and 2 counts of water:"
   ]
  },
  {
   "cell_type": "markdown",
   "metadata": {
    "colab_type": "text",
    "id": "3EMtUcwxR-4q"
   },
   "source": [
    "##### Code 3.20"
   ]
  },
  {
   "cell_type": "code",
   "execution_count": 25,
   "metadata": {
    "colab": {
     "base_uri": "https://localhost:8080/"
    },
    "colab_type": "code",
    "id": "R3JigMx5R-4r",
    "outputId": "d095933e-2976-46ae-cf37-bed3542a7668"
   },
   "outputs": [
    {
     "data": {
      "text/plain": [
       "<tf.Tensor: shape=(3,), dtype=float32, numpy=array([0.09      , 0.42000002, 0.48999998], dtype=float32)>"
      ]
     },
     "execution_count": 25,
     "metadata": {},
     "output_type": "execute_result"
    }
   ],
   "source": [
    "tfd.Binomial(total_count=2, probs=0.7).prob(np.arange(3))"
   ]
  },
  {
   "cell_type": "markdown",
   "metadata": {
    "colab_type": "text",
    "id": "CRYsZq_GR-4u"
   },
   "source": [
    "This means that there’s a 9% chance of observing *w* = 0, a 42% chance of *w* = 1, and a 49% chance of *w* = 2.\n",
    "\n",
    "We can simulate a dummy observation of *W* from our model by sampling from the binomial distribution:"
   ]
  },
  {
   "cell_type": "markdown",
   "metadata": {
    "colab_type": "text",
    "id": "o7pf5MQgR-4u"
   },
   "source": [
    "##### Code 3.21\n",
    "\n"
   ]
  },
  {
   "cell_type": "code",
   "execution_count": 26,
   "metadata": {
    "colab": {
     "base_uri": "https://localhost:8080/",
     "height": 34
    },
    "colab_type": "code",
    "id": "XKCHYg-OR-4v",
    "outputId": "d9e098f4-8c8b-43eb-9d41-425400eccd37"
   },
   "outputs": [
    {
     "data": {
      "text/plain": [
       "<tf.Tensor: shape=(), dtype=float32, numpy=1.0>"
      ]
     },
     "execution_count": 26,
     "metadata": {},
     "output_type": "execute_result"
    }
   ],
   "source": [
    "tfd.Binomial(total_count=2, probs=0.7).sample()"
   ]
  },
  {
   "cell_type": "markdown",
   "metadata": {
    "colab_type": "text",
    "id": "3c5vqJO-O9cv"
   },
   "source": [
    "The result is the number of water observations in 2 tosses of the globe.\n",
    "\n",
    "A set of 10 simulations can be made by:"
   ]
  },
  {
   "cell_type": "markdown",
   "metadata": {
    "colab_type": "text",
    "id": "1h4np4S8R-4y"
   },
   "source": [
    "##### Code 3.22\n",
    "\n"
   ]
  },
  {
   "cell_type": "code",
   "execution_count": 27,
   "metadata": {
    "colab": {
     "base_uri": "https://localhost:8080/"
    },
    "colab_type": "code",
    "id": "LITo0fAJR-4z",
    "outputId": "401259a2-d21f-4bfb-e0db-c4b70cd7ff12"
   },
   "outputs": [
    {
     "data": {
      "text/plain": [
       "<tf.Tensor: shape=(10,), dtype=float32, numpy=array([2., 1., 2., 2., 0., 1., 1., 1., 1., 2.], dtype=float32)>"
      ]
     },
     "execution_count": 27,
     "metadata": {},
     "output_type": "execute_result"
    }
   ],
   "source": [
    "tfd.Binomial(total_count=2, probs=0.7).sample((10,))"
   ]
  },
  {
   "cell_type": "markdown",
   "metadata": {
    "colab_type": "text",
    "id": "lmHNBqtnR-43"
   },
   "source": [
    "\n",
    "When we generate 100,000 dummy observations, note that each value of *w* appears in proportion to its likelihood\n",
    "\n",
    "##### Code 3.23\n"
   ]
  },
  {
   "cell_type": "code",
   "execution_count": 28,
   "metadata": {
    "colab": {
     "base_uri": "https://localhost:8080/",
     "height": 34
    },
    "colab_type": "code",
    "id": "W3nDiWihR-44",
    "outputId": "ab6d59b7-c98a-4ba7-a7ab-0559901ab526"
   },
   "outputs": [
    {
     "data": {
      "text/plain": [
       "<tf.Tensor: shape=(3,), dtype=float32, numpy=array([0.08935, 0.42076, 0.48989], dtype=float32)>"
      ]
     },
     "execution_count": 28,
     "metadata": {},
     "output_type": "execute_result"
    }
   ],
   "source": [
    "dummy_w = tfd.Binomial(total_count=2, probs=0.7).sample((100000,))\n",
    "\n",
    "# numpy equivalent is -\n",
    "# np.unique(dummy_w.numpy(), return_counts=True)[1] / 1e5\n",
    "#\n",
    "# Note for tensorflow we have to cast with tf.float32 to be able to divide\n",
    "# and it does not sort it and hence with tf it is bit more involved\n",
    "tf.sort(tf.cast(tf.unique_with_counts(dummy_w)[2], dtype=tf.float32) / 1e5)"
   ]
  },
  {
   "cell_type": "markdown",
   "metadata": {
    "colab_type": "text",
    "id": "8-mjlykER-48"
   },
   "source": [
    ">Only two tosses of the globe isn’t much of a sample, though. So now let’s simulate the same sample size as before, 9 tosses.\n",
    "\n",
    "##### Code 3.24\n",
    "\n",
    "\n",
    "\n"
   ]
  },
  {
   "cell_type": "code",
   "execution_count": 29,
   "metadata": {},
   "outputs": [
    {
     "data": {
      "image/png": "[encoded data removed]",
      "text/plain": [
       "<Figure size 432x288 with 1 Axes>"
      ]
     },
     "metadata": {
      "needs_background": "light"
     },
     "output_type": "display_data"
    }
   ],
   "source": [
    "dummy_w = tfd.Binomial(total_count=9, probs=0.7).sample((100000,))\n",
    "plt.hist(dummy_w.numpy(), bins=50)\n",
    "plt.xlabel(\"dummy water count\", fontsize=14)\n",
    "plt.ylabel(\"Frequency\", fontsize=14);"
   ]
  },
  {
   "cell_type": "markdown",
   "metadata": {
    "colab_type": "text",
    "id": "_AxV9mFGWGNt"
   },
   "source": [
    "### 3.3.2. Model Checking\n",
    "\n",
    ">We’d like to propagate the parameter uncertainty—carry it forward—as we evaluate the implied predictions. All that is required is averaging over the posterior density for *p*, while computing the predictions. For each possible value of the parameter *p*, there is an implied distribution of outcomes. So if you were to compute the sampling distribution of outcomes at each value of *p*, then you could average all of these prediction distributions together, using the posterior probabilities of each value of *p*, to get a POSTERIOR PREDICTIVE DISTRIBUTION.\n",
    "\n",
    "To simulate predicted observations for nine globe tosses, for a single value of *p*=0.6, we can use `Binomial` to generate random binomial samples:\n",
    "\n"
   ]
  },
  {
   "cell_type": "markdown",
   "metadata": {
    "colab_type": "text",
    "id": "5HchgmkaR-5B"
   },
   "source": [
    "##### Code 3.25"
   ]
  },
  {
   "cell_type": "code",
   "execution_count": 30,
   "metadata": {
    "colab": {
     "base_uri": "https://localhost:8080/",
     "height": 34
    },
    "colab_type": "code",
    "id": "9pp-X5h-R-5B",
    "outputId": "6fb8e9a0-edd7-4183-c00e-81dac9b1e7fd"
   },
   "outputs": [
    {
     "name": "stdout",
     "output_type": "stream",
     "text": [
      "tf.Tensor([4. 2. 5. ... 4. 8. 5.], shape=(10000,), dtype=float32)\n"
     ]
    }
   ],
   "source": [
    "w = tfd.Binomial(total_count=9, probs=0.6).sample(1e4)\n",
    "print (w)"
   ]
  },
  {
   "cell_type": "markdown",
   "metadata": {
    "colab_type": "text",
    "id": "go8zHTQ1R-5F"
   },
   "source": [
    ">All you need to propagate parameter uncertainty into these predictions is replace the value 0.6 with samples from the posterior.... Since the sampled values appear in proportion to their posterior probabilities, the resulting simulated observations are averaged over the posterior.\n",
    "\n",
    "##### Code 3.26"
   ]
  },
  {
   "cell_type": "code",
   "execution_count": 31,
   "metadata": {
    "colab": {
     "base_uri": "https://localhost:8080/",
     "height": 34
    },
    "colab_type": "code",
    "id": "Bgn_UI3mR-5G",
    "outputId": "5f9d3ff1-5f49-41a5-c082-b2fa7aef5135"
   },
   "outputs": [
    {
     "name": "stdout",
     "output_type": "stream",
     "text": [
      "tf.Tensor([9. 7. 3. ... 8. 8. 6.], shape=(10000,), dtype=float32)\n"
     ]
    }
   ],
   "source": [
    "w = tfd.Binomial(total_count=9, probs=sample_rows).sample()\n",
    "print (w)"
   ]
  }
 ],
 "metadata": {
  "colab": {
   "collapsed_sections": [
    "k9Y_OvNVR-4H",
    "PvtPAI_AR-4O",
    "cN0MfWq6R-4T",
    "E4Df7GOOR-4X",
    "JkAbVtN4R-4c",
    "HGETHvmxR-4f",
    "Ux2nQxwXR-4k"
   ],
   "name": "03_sampling_the_imaginary.ipynb",
   "provenance": []
  },
  "kernelspec": {
   "display_name": "Python 3",
   "language": "python",
   "name": "python3"
  },
  "language_info": {
   "codemirror_mode": {
    "name": "ipython",
    "version": 3
   },
   "file_extension": ".py",
   "mimetype": "text/x-python",
   "name": "python",
   "nbconvert_exporter": "python",
   "pygments_lexer": "ipython3",
   "version": "3.7.5"
  },
  "toc": {
   "base_numbering": 1,
   "nav_menu": {},
   "number_sections": true,
   "sideBar": true,
   "skip_h1_title": false,
   "title_cell": "Table of Contents",
   "title_sidebar": "Contents",
   "toc_cell": false,
   "toc_position": {},
   "toc_section_display": true,
   "toc_window_display": false
  }
 },
 "nbformat": 4,
 "nbformat_minor": 1
}
