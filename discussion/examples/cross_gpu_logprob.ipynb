{
  "nbformat": 4,
  "nbformat_minor": 0,
  "metadata": {
    "colab": {
      "name": "cross-gpu-logprob.ipynb",
      "provenance": [],
      "collapsed_sections": [],
      "toc_visible": true
    },
    "kernelspec": {
      "name": "python3",
      "display_name": "Python 3"
    },
    "accelerator": "GPU"
  },
  "cells": [
    {
      "cell_type": "markdown",
      "metadata": {
        "id": "ICfV2dqVHpjh",
        "colab_type": "text"
      },
      "source": [
        "The objective of this notebook is to demonstrate splitting a log_prob and gradient computation across a number of GPU devices. For development purposes, this was prototyped in colab with a single GPU partitioned into multiple logical GPUs. \n",
        "\n",
        "*Note*: Since it runs on a single GPU, performance is not representative of what can be achieved with multiple GPUs. Usage of `tf.data` can likely benefit from some tuning when deployed to multiple GPUs.\n",
        "\n",
        "**Needs a GPU**: Edit > Notebook Settings: `Hardware Accelerator` => `GPU`"
      ]
    },
    {
      "cell_type": "code",
      "metadata": {
        "id": "Dk5b7sR75zkU",
        "colab_type": "code",
        "outputId": "00816bc5-923d-46e3-8bdb-0e1705892bac",
        "colab": {
          "base_uri": "https://localhost:8080/",
          "height": 122
        }
      },
      "source": [
        "%tensorflow_version 2.x\n",
        "import numpy as np\n",
        "import tensorflow as tf\n",
        "import tensorflow_probability as tfp\n",
        "tfb, tfd = tfp.bijectors, tfp.distributions\n",
        "\n",
        "physical_gpus = tf.config.experimental.list_physical_devices('GPU')\n",
        "print(physical_gpus)\n",
        "\n",
        "tf.config.experimental.set_virtual_device_configuration(\n",
        "    physical_gpus[0],\n",
        "    [tf.config.experimental.VirtualDeviceConfiguration(memory_limit=2000)] * 4)\n",
        "gpus = tf.config.list_logical_devices('GPU')\n",
        "print(gpus)\n",
        "\n",
        "st = tf.distribute.MirroredStrategy(devices=tf.config.list_logical_devices('GPU'))\n",
        "print(st.extended.worker_devices)"
      ],
      "execution_count": 1,
      "outputs": [
        {
          "output_type": "stream",
          "text": [
            "[PhysicalDevice(name='/physical_device:GPU:0', device_type='GPU')]\n",
            "[LogicalDevice(name='/device:GPU:0', device_type='GPU'), LogicalDevice(name='/device:GPU:1', device_type='GPU'), LogicalDevice(name='/device:GPU:2', device_type='GPU'), LogicalDevice(name='/device:GPU:3', device_type='GPU')]\n",
            "WARNING:tensorflow:NCCL is not supported when using virtual GPUs, fallingback to reduction to one device\n",
            "INFO:tensorflow:Using MirroredStrategy with devices ('/job:localhost/replica:0/task:0/device:GPU:0', '/job:localhost/replica:0/task:0/device:GPU:1', '/job:localhost/replica:0/task:0/device:GPU:2', '/job:localhost/replica:0/task:0/device:GPU:3')\n",
            "('/job:localhost/replica:0/task:0/device:GPU:0', '/job:localhost/replica:0/task:0/device:GPU:1', '/job:localhost/replica:0/task:0/device:GPU:2', '/job:localhost/replica:0/task:0/device:GPU:3')\n"
          ],
          "name": "stdout"
        }
      ]
    },
    {
      "cell_type": "code",
      "metadata": {
        "id": "tpRKvEJU7cJP",
        "colab_type": "code",
        "outputId": "8292777a-ce57-46c4-fe11-5fb536006453",
        "colab": {
          "base_uri": "https://localhost:8080/",
          "height": 153
        }
      },
      "source": [
        "# Draw samples from an MVN, then sort them. This way we can easily visually\n",
        "# verify the correct partition ends up on the correct GPUs.\n",
        "ndim = 3\n",
        "\n",
        "def model():\n",
        "  Root = tfd.JointDistributionCoroutine.Root\n",
        "  loc = yield Root(tfb.Shift(.5)(tfd.MultivariateNormalDiag(loc=tf.zeros([ndim]))))\n",
        "  scale_tril = yield Root(tfb.FillScaleTriL()(tfd.MultivariateNormalDiag(loc=tf.zeros([ndim * (ndim + 1) // 2]))))\n",
        "  yield tfd.MultivariateNormalTriL(loc=loc, scale_tril=scale_tril)\n",
        "\n",
        "dist = tfd.JointDistributionCoroutine(model)\n",
        "loc, scale_tril, _ = dist.sample()\n",
        "\n",
        "samples = dist.sample(value=([loc] * 1024, scale_tril, None))[2]\n",
        "samples = tf.round(samples * 1000) / 1000\n",
        "for dim in reversed(range(ndim)):\n",
        "  samples = tf.gather(samples, tf.argsort(samples[:,dim]))\n",
        "\n",
        "print(samples)"
      ],
      "execution_count": 2,
      "outputs": [
        {
          "output_type": "stream",
          "text": [
            "tf.Tensor(\n",
            "[[-4.321 -3.949  0.829]\n",
            " [-4.319 -3.059 -0.807]\n",
            " [-3.57  -4.558  2.111]\n",
            " ...\n",
            " [ 6.096  3.855  1.023]\n",
            " [ 6.334  4.514 -0.827]\n",
            " [ 6.928  3.033  3.634]], shape=(1024, 3), dtype=float32)\n"
          ],
          "name": "stdout"
        }
      ]
    },
    {
      "cell_type": "code",
      "metadata": {
        "id": "A1qBcZgSIN6q",
        "colab_type": "code",
        "outputId": "5ac6102a-ab2c-4ce1-98d1-a71355da5bd8",
        "colab": {
          "base_uri": "https://localhost:8080/",
          "height": 119
        }
      },
      "source": [
        "print(loc)\n",
        "print(scale_tril)\n",
        "print(tf.reduce_mean(samples, 0))"
      ],
      "execution_count": 3,
      "outputs": [
        {
          "output_type": "stream",
          "text": [
            "tf.Tensor([0.9930537  0.01916379 0.7527114 ], shape=(3,), dtype=float32)\n",
            "tf.Tensor(\n",
            "[[ 1.7327604   0.          0.        ]\n",
            " [ 1.3935078   1.0557237   0.        ]\n",
            " [-0.19117251 -1.90322     0.5102539 ]], shape=(3, 3), dtype=float32)\n",
            "tf.Tensor([ 0.8688329  -0.07779592  0.7639365 ], shape=(3,), dtype=float32)\n"
          ],
          "name": "stdout"
        }
      ]
    },
    {
      "cell_type": "markdown",
      "metadata": {
        "id": "3uIDBMnndNP-",
        "colab_type": "text"
      },
      "source": [
        "### Single batch of data resident on GPU."
      ]
    },
    {
      "cell_type": "code",
      "metadata": {
        "id": "BY2R0E5ndPiz",
        "colab_type": "code",
        "outputId": "8a075170-a5ce-4c35-a447-b1d98bea3a4c",
        "colab": {
          "base_uri": "https://localhost:8080/",
          "height": 493
        }
      },
      "source": [
        "%%time\n",
        "\n",
        "def dataset_fn(ctx):\n",
        "  batch_size = ctx.get_per_replica_batch_size(len(samples))\n",
        "  d = tf.data.Dataset.from_tensor_slices(samples).batch(batch_size)\n",
        "  return d.shard(ctx.num_input_pipelines, ctx.input_pipeline_id)\n",
        "\n",
        "ds = st.experimental_distribute_datasets_from_function(dataset_fn)\n",
        "\n",
        "observations = next(iter(ds))\n",
        "# print(observations)\n",
        "\n",
        "def log_prob_and_grad(loc, scale_tril, observations):\n",
        "  ctx = tf.distribute.get_replica_context()\n",
        "  with tf.GradientTape() as tape:\n",
        "    tape.watch((loc, scale_tril))\n",
        "    lp = tf.reduce_sum(dist.log_prob(loc, scale_tril, observations)) / len(samples)\n",
        "  grad = tape.gradient(lp, (loc, scale_tril))\n",
        "  return ctx.all_reduce('sum', lp), [ctx.all_reduce('sum', g) for g in grad]\n",
        "\n",
        "@tf.function(autograph=False)\n",
        "@tf.custom_gradient\n",
        "def target_log_prob(loc, scale_tril):\n",
        "  lp, grads = st.experimental_run_v2(log_prob_and_grad, (loc, scale_tril, observations))\n",
        "  return lp.values[0], lambda grad_lp: [grad_lp * g.values[0] for g in grads]\n",
        "\n",
        "# print(tfp.math.value_and_gradient(target_log_prob, (loc, scale_tril)))\n",
        "\n",
        "kernel = tfp.mcmc.HamiltonianMonteCarlo(target_log_prob, step_size=.35, num_leapfrog_steps=2)\n",
        "kernel = tfp.mcmc.TransformedTransitionKernel(kernel, bijector=[tfb.Identity(), tfb.FillScaleTriL()])\n",
        "\n",
        "@tf.function(autograph=False)\n",
        "def sample_chain():\n",
        "  return tfp.mcmc.sample_chain(\n",
        "      num_results=200, num_burnin_steps=100,\n",
        "      current_state=[tf.ones_like(loc), tf.linalg.eye(scale_tril.shape[-1])], \n",
        "      kernel=kernel, trace_fn=lambda _, kr: kr.inner_results.is_accepted)\n",
        "samps, is_accepted = sample_chain()\n",
        "\n",
        "print(f'accept rate: {np.mean(is_accepted)}')\n",
        "print(f'ess: {tfp.mcmc.effective_sample_size(samps)}')\n",
        "\n",
        "print(tf.reduce_mean(samps[0], axis=0))\n",
        "# print(tf.reduce_mean(samps[1], axis=0))\n",
        "\n",
        "import matplotlib.pyplot as plt\n",
        "for dim in range(ndim):\n",
        "  plt.figure(figsize=(10,1))\n",
        "  plt.hist(samps[0][:,dim], bins=50)\n",
        "  plt.title(f'loc[{dim}]: prior mean = 0.5, observation = {loc[dim]}')\n",
        "  plt.show()"
      ],
      "execution_count": 11,
      "outputs": [
        {
          "output_type": "stream",
          "text": [
            "INFO:tensorflow:Reduce to /job:localhost/replica:0/task:0/device:GPU:0 then broadcast to ('/job:localhost/replica:0/task:0/device:GPU:0', '/job:localhost/replica:0/task:0/device:GPU:1', '/job:localhost/replica:0/task:0/device:GPU:2', '/job:localhost/replica:0/task:0/device:GPU:3').\n",
            "accept rate: 0.805\n",
            "ess: [<tf.Tensor: shape=(3,), dtype=float32, numpy=array([34.39838 , 12.606365, 20.39939 ], dtype=float32)>, <tf.Tensor: shape=(3, 3), dtype=float32, numpy=\n",
            "array([[45.11744 ,       nan,       nan],\n",
            "       [57.438633, 29.309052,       nan],\n",
            "       [34.366856, 26.247347, 36.570995]], dtype=float32)>]\n",
            "tf.Tensor([0.78803474 0.3430337  0.5179331 ], shape=(3,), dtype=float32)\n"
          ],
          "name": "stdout"
        },
        {
          "output_type": "display_data",
          "data": {
            "image/png": "[encoded data removed]",
            "text/plain": [
              "<Figure size 720x72 with 1 Axes>"
            ]
          },
          "metadata": {
            "tags": []
          }
        },
        {
          "output_type": "display_data",
          "data": {
            "image/png": "[encoded data removed]",
            "text/plain": [
              "<Figure size 720x72 with 1 Axes>"
            ]
          },
          "metadata": {
            "tags": []
          }
        },
        {
          "output_type": "display_data",
          "data": {
            "image/png": "[encoded data removed]",
            "text/plain": [
              "<Figure size 720x72 with 1 Axes>"
            ]
          },
          "metadata": {
            "tags": []
          }
        },
        {
          "output_type": "stream",
          "text": [
            "CPU times: user 15.4 s, sys: 2.06 s, total: 17.5 s\n",
            "Wall time: 17.3 s\n"
          ],
          "name": "stdout"
        }
      ]
    },
    {
      "cell_type": "markdown",
      "metadata": {
        "id": "b4RG2YJQdHGA",
        "colab_type": "text"
      },
      "source": [
        "### Two batches of data per log-prob eval (2x slower)."
      ]
    },
    {
      "cell_type": "code",
      "metadata": {
        "id": "eopN1CSgHrZY",
        "colab_type": "code",
        "outputId": "d695a2a7-6af9-4275-f814-6c743d2cfc9b",
        "colab": {
          "base_uri": "https://localhost:8080/",
          "height": 527
        }
      },
      "source": [
        "%%time\n",
        "batches_per_eval = 2\n",
        "\n",
        "def dataset_fn(ctx):\n",
        "  batch_size = ctx.get_per_replica_batch_size(len(samples))\n",
        "  d = tf.data.Dataset.from_tensor_slices(samples).batch(batch_size // batches_per_eval)\n",
        "  return d.shard(ctx.num_input_pipelines, ctx.input_pipeline_id)\n",
        "\n",
        "ds = st.experimental_distribute_datasets_from_function(dataset_fn)\n",
        "\n",
        "def log_prob_and_grad(loc, scale_tril, observations, prev_sum_lp, prev_sum_grads):\n",
        "  ctx = tf.distribute.get_replica_context()\n",
        "  with tf.GradientTape() as tape:\n",
        "    tape.watch((loc, scale_tril))\n",
        "    lp = tf.reduce_sum(dist.log_prob(loc, scale_tril, observations)) / len(samples)\n",
        "  grad = tape.gradient(lp, (loc, scale_tril))\n",
        "  return lp + prev_sum_lp, [g + pg for (g, pg) in zip(grad, prev_sum_grads)]\n",
        "\n",
        "@tf.function(autograph=False)\n",
        "@tf.custom_gradient\n",
        "def target_log_prob(loc, scale_tril):\n",
        "  sum_lp = tf.zeros([])\n",
        "  sum_grads = [tf.zeros_like(x) for x in (loc, scale_tril)]\n",
        "  sum_lp, sum_grads = st.experimental_run_v2(\n",
        "      lambda *x: tf.nest.map_structure(tf.identity, x), (sum_lp, sum_grads))\n",
        "  def reduce_fn(state, observations):\n",
        "    sum_lp, sum_grads = state\n",
        "    return st.experimental_run_v2(\n",
        "        log_prob_and_grad, (loc, scale_tril, observations, sum_lp, sum_grads))\n",
        "  sum_lp, sum_grads = ds.reduce((sum_lp, sum_grads), reduce_fn)\n",
        "  sum_lp = st.reduce('sum', sum_lp, None)\n",
        "  sum_grads = [st.reduce('sum', sg, None) for sg in sum_grads]\n",
        "  return sum_lp, lambda grad_lp: [grad_lp * sg for sg in sum_grads]\n",
        "\n",
        "# print(tfp.math.value_and_gradient(target_log_prob, (loc, scale_tril)))\n",
        "\n",
        "kernel = tfp.mcmc.HamiltonianMonteCarlo(target_log_prob, step_size=.35, num_leapfrog_steps=2)\n",
        "kernel = tfp.mcmc.TransformedTransitionKernel(kernel, bijector=[tfb.Identity(), tfb.FillScaleTriL()])\n",
        "\n",
        "@tf.function(autograph=False)\n",
        "def sample_chain():\n",
        "  return tfp.mcmc.sample_chain(\n",
        "      num_results=200, num_burnin_steps=100,\n",
        "      current_state=[tf.ones_like(loc), tf.linalg.eye(scale_tril.shape[-1])], \n",
        "      kernel=kernel, trace_fn=lambda _, kr: kr.inner_results.is_accepted)\n",
        "samps, is_accepted = sample_chain()\n",
        "\n",
        "print(f'accept rate: {np.mean(is_accepted)}')\n",
        "print(f'ess: {tfp.mcmc.effective_sample_size(samps)}')\n",
        "\n",
        "print(tf.reduce_mean(samps[0], axis=0))\n",
        "# print(tf.reduce_mean(samps[1], axis=0))\n",
        "\n",
        "import matplotlib.pyplot as plt\n",
        "for dim in range(ndim):\n",
        "  plt.figure(figsize=(10,1))\n",
        "  plt.hist(samps[0][:,dim], bins=50)\n",
        "  plt.title(f'loc[{dim}]: prior mean = 0.5, observation = {loc[dim]}')\n",
        "  plt.show()"
      ],
      "execution_count": 12,
      "outputs": [
        {
          "output_type": "stream",
          "text": [
            "INFO:tensorflow:Reduce to /job:localhost/replica:0/task:0/device:CPU:0 then broadcast to ('/job:localhost/replica:0/task:0/device:CPU:0',).\n",
            "INFO:tensorflow:Reduce to /job:localhost/replica:0/task:0/device:CPU:0 then broadcast to ('/job:localhost/replica:0/task:0/device:CPU:0',).\n",
            "INFO:tensorflow:Reduce to /job:localhost/replica:0/task:0/device:CPU:0 then broadcast to ('/job:localhost/replica:0/task:0/device:CPU:0',).\n",
            "accept rate: 0.79\n",
            "ess: [<tf.Tensor: shape=(3,), dtype=float32, numpy=array([26.674135, 38.122704, 31.241467], dtype=float32)>, <tf.Tensor: shape=(3, 3), dtype=float32, numpy=\n",
            "array([[54.29772 ,       nan,       nan],\n",
            "       [38.399918, 46.97566 ,       nan],\n",
            "       [29.181406, 34.569984, 35.78369 ]], dtype=float32)>]\n",
            "tf.Tensor([0.58452165 0.18950851 0.7064446 ], shape=(3,), dtype=float32)\n"
          ],
          "name": "stdout"
        },
        {
          "output_type": "display_data",
          "data": {
            "image/png": "[encoded data removed]",
            "text/plain": [
              "<Figure size 720x72 with 1 Axes>"
            ]
          },
          "metadata": {
            "tags": []
          }
        },
        {
          "output_type": "display_data",
          "data": {
            "image/png": "[encoded data removed]",
            "text/plain": [
              "<Figure size 720x72 with 1 Axes>"
            ]
          },
          "metadata": {
            "tags": []
          }
        },
        {
          "output_type": "display_data",
          "data": {
            "image/png": "[encoded data removed]",
            "text/plain": [
              "<Figure size 720x72 with 1 Axes>"
            ]
          },
          "metadata": {
            "tags": []
          }
        },
        {
          "output_type": "stream",
          "text": [
            "CPU times: user 1min 13s, sys: 9.15 s, total: 1min 22s\n",
            "Wall time: 52.9 s\n"
          ],
          "name": "stdout"
        }
      ]
    },
    {
      "cell_type": "code",
      "metadata": {
        "id": "fSKHFj2f8w3V",
        "colab_type": "code",
        "colab": {}
      },
      "source": [
        ""
      ],
      "execution_count": 0,
      "outputs": []
    }
  ]
}