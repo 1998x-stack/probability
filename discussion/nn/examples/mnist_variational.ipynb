{
  "cells": [
    {
      "cell_type": "markdown",
      "metadata": {
        "colab_type": "text",
        "id": "XXDeo-aGOAXF"
      },
      "source": [
        "##### Copyright 2019 The TensorFlow Authors.\n",
        "\n",
        "Licensed under the Apache License, Version 2.0 (the \"License\");"
      ]
    },
    {
      "cell_type": "code",
      "execution_count": 0,
      "metadata": {
        "colab": {},
        "colab_type": "code",
        "id": "9XRGdjHNOE9D"
      },
      "outputs": [],
      "source": [
        "#@title ##### Licensed under the Apache License, Version 2.0 (the \"License\"); { display-mode: \"form\" }\n",
        "# you may not use this file except in compliance with the License.\n",
        "# You may obtain a copy of the License at\n",
        "#\n",
        "# https://www.apache.org/licenses/LICENSE-2.0\n",
        "#\n",
        "# Unless required by applicable law or agreed to in writing, software\n",
        "# distributed under the License is distributed on an \"AS IS\" BASIS,\n",
        "# WITHOUT WARRANTIES OR CONDITIONS OF ANY KIND, either express or implied.\n",
        "# See the License for the specific language governing permissions and\n",
        "# limitations under the License."
      ]
    },
    {
      "cell_type": "markdown",
      "metadata": {
        "colab_type": "text",
        "id": "KJihamFwOLUT"
      },
      "source": [
        "# Bayesian Neural Network\n",
        "\n",
        "\u003ctable class=\"tfo-notebook-buttons\" align=\"left\"\u003e\n",
        "  \u003ctd\u003e\n",
        "    \u003ca target=\"_blank\" href=\"https://colab.research.google.com/github/tensorflow/probability/blob/master/tensorflow_probability/discussion/nn/examples/mnist_variational.ipynb\"\u003e\u003cimg src=\"https://www.tensorflow.org/images/colab_logo_32px.png\" /\u003eRun in Google Colab\u003c/a\u003e\n",
        "  \u003c/td\u003e\n",
        "  \u003ctd\u003e\n",
        "    \u003ca target=\"_blank\" href=\"https://github.com/tensorflow/probability/blob/master/tensorflow_probability/discussion/nn/examples/mnist_variational.ipynb\"\u003e\u003cimg src=\"https://www.tensorflow.org/images/GitHub-Mark-32px.png\" /\u003eView source on GitHub\u003c/a\u003e\n",
        "  \u003c/td\u003e\n",
        "\u003c/table\u003e"
      ]
    },
    {
      "cell_type": "markdown",
      "metadata": {
        "colab_type": "text",
        "id": "B0HrNKbJw2bA"
      },
      "source": [
        "### 1  Imports"
      ]
    },
    {
      "cell_type": "code",
      "execution_count": 0,
      "metadata": {
        "cellView": "both",
        "colab": {},
        "colab_type": "code",
        "id": "cttwhYKYGhPj"
      },
      "outputs": [],
      "source": [
        "from __future__ import absolute_import\n",
        "from __future__ import division\n",
        "from __future__ import print_function\n",
        "\n",
        "import sys\n",
        "import time\n",
        "\n",
        "import numpy as np\n",
        "import matplotlib.pyplot as plt\n",
        "\n",
        "import tensorflow.compat.v2 as tf\n",
        "tf.enable_v2_behavior()\n",
        "\n",
        "import tensorflow_datasets as tfds\n",
        "import tensorflow_probability as tfp\n",
        "from discussion import nn as tfp_nn\n",
        "\n",
        "# Globally Enable XLA\n",
        "# from tensorflow.python.framework import config\n",
        "# config.set_optimizer_jit(True)\n",
        "\n",
        "tfb = tfp.bijectors\n",
        "tfd = tfp.distributions"
      ]
    },
    {
      "cell_type": "markdown",
      "metadata": {
        "colab_type": "text",
        "id": "nbQ3rcTowypZ"
      },
      "source": [
        "### 2  Load Dataset"
      ]
    },
    {
      "cell_type": "code",
      "execution_count": 0,
      "metadata": {
        "cellView": "both",
        "colab": {
          "height": 133
        },
        "colab_type": "code",
        "id": "rjgnFMxvG9Ab",
        "outputId": "d54b880e-2d80-459c-f9f8-41ead8d7b4cc"
      },
      "outputs": [
        {
          "data": {
            "image/png": "[encoded data removed]",
            "text/plain": [
              "\u003cmatplotlib.figure.Figure at 0x364f03180e50\u003e"
            ]
          },
          "metadata": {
            "tags": []
          },
          "output_type": "display_data"
        }
      ],
      "source": [
        "[train_dataset, eval_dataset], datasets_info = tfds.load(\n",
        "    name='mnist',\n",
        "    split=['train', 'test'],\n",
        "    with_info=True,\n",
        "    as_supervised=True,\n",
        "    shuffle_files=True)\n",
        "\n",
        "def _preprocess(image, label):\n",
        "  image = tf.cast(image, dtype=tf.float32) / 255.\n",
        "  label = tf.cast(label, dtype=tf.int32)\n",
        "  return image, label\n",
        "\n",
        "train_size = datasets_info.splits['train'].num_examples\n",
        "batch_size = 32\n",
        "\n",
        "train_dataset = tfp_nn.util.tune_dataset(\n",
        "    train_dataset,\n",
        "    batch_size=batch_size,\n",
        "    shuffle_size=int(train_size  / 7),\n",
        "    preprocess_fn=_preprocess)\n",
        "\n",
        "eval_dataset = tfp_nn.util.tune_dataset(\n",
        "    eval_dataset,\n",
        "    preprocess_fn=_preprocess)\n",
        "\n",
        "x, y = next(iter(eval_dataset.batch(10)))\n",
        "tfp_nn.util.display_imgs(x, y);"
      ]
    },
    {
      "cell_type": "markdown",
      "metadata": {
        "colab_type": "text",
        "id": "sbaPm7ABwvde"
      },
      "source": [
        "### 3  Define Model"
      ]
    },
    {
      "cell_type": "code",
      "execution_count": 0,
      "metadata": {
        "cellView": "both",
        "colab": {
          "height": 273
        },
        "colab_type": "code",
        "id": "nhnbpf7IYBD6",
        "outputId": "df0f42fc-c284-4d64-b176-dd373600459b"
      },
      "outputs": [
        {
          "name": "stdout",
          "output_type": "stream",
          "text": [
            "=== model ==================================================\n",
            "  SIZE SHAPE                TRAIN NAME                                    \n",
            "   200 [5, 5, 1, 8]         True  posterior_kernel_loc:0                  \n",
            "   200 [5, 5, 1, 8]         True  posterior_kernel_scale:0                \n",
            "     8 [8]                  True  posterior_bias_loc:0                    \n",
            "     8 [8]                  True  posterior_bias_scale:0                  \n",
            "  3200 [5, 5, 8, 16]        True  posterior_kernel_loc:0                  \n",
            "  3200 [5, 5, 8, 16]        True  posterior_kernel_scale:0                \n",
            "    16 [16]                 True  posterior_bias_loc:0                    \n",
            "    16 [16]                 True  posterior_bias_scale:0                  \n",
            "  7840 [784, 10]            True  posterior_kernel_loc:0                  \n",
            "  7840 [784, 10]            True  posterior_kernel_scale:0                \n",
            "    10 [10]                 True  posterior_bias_loc:0                    \n",
            "    10 [10]                 True  posterior_bias_scale:0                  \n",
            "trainable size: 22548  /  0.086 MiB  /  {float32: 22548}\n"
          ]
        }
      ],
      "source": [
        "max_pool = tf.keras.layers.MaxPooling2D(  # Has no tf.Variables.\n",
        "    pool_size=(2, 2),\n",
        "    strides=(2, 2),\n",
        "    padding='SAME',\n",
        "    data_format='channels_last')\n",
        "\n",
        "model = tfp_nn.Sequential([\n",
        "  tfp_nn.ConvolutionVariationalFlipout(\n",
        "      input_size=1,\n",
        "      output_size=8,\n",
        "      filter_shape=5,\n",
        "      padding='SAME',\n",
        "      penalty_weight=1. / train_size,\n",
        "      name='conv1'),\n",
        "  tf.nn.leaky_relu,\n",
        "  max_pool,  # [28, 28, 8] -\u003e [14, 14, 8]\n",
        "  tfp_nn.ConvolutionVariationalFlipout(\n",
        "      input_size=8,\n",
        "      output_size=16,\n",
        "      filter_shape=5,\n",
        "      padding='SAME',\n",
        "      penalty_weight = 1. / train_size,\n",
        "      name='conv2'),\n",
        "  tf.nn.leaky_relu,\n",
        "  max_pool,  # [14, 14, 16] -\u003e [7, 7, 16]\n",
        "  tfp_nn.util.flatten_rightmost,\n",
        "  tfp_nn.AffineVariationalReparameterizationLocal(\n",
        "      input_size=7 * 7 * 16,\n",
        "      output_size=10,\n",
        "      penalty_weight = 1. / train_size,\n",
        "      name='affine1'),\n",
        "  lambda x: tfd.Categorical(logits=x, dtype=tf.int32),   \n",
        "], name='model')\n",
        "\n",
        "print(model.summary())"
      ]
    },
    {
      "cell_type": "markdown",
      "metadata": {
        "colab_type": "text",
        "id": "J9XuHd6Iw7_a"
      },
      "source": [
        "### 4  Train"
      ]
    },
    {
      "cell_type": "code",
      "execution_count": 0,
      "metadata": {
        "cellView": "code",
        "colab": {},
        "colab_type": "code",
        "id": "iUmS-7IATIcI"
      },
      "outputs": [],
      "source": [
        "train_iter = iter(train_dataset)\n",
        "eval_iter = iter(eval_dataset.batch(1000))\n",
        "\n",
        "def loss():\n",
        "  x, y = next(train_iter)\n",
        "  nll = -tf.reduce_mean(model(x).log_prob(y), axis=-1)\n",
        "  kl = model.extra_loss\n",
        "  return nll + kl, (nll, kl)\n",
        "\n",
        "opt = tf.optimizers.Adam(learning_rate=1e-2)\n",
        " \n",
        "fit = tfp_nn.util.make_fit_op(\n",
        "    loss,\n",
        "    opt,\n",
        "    model.trainable_variables,\n",
        "    grad_summary_fn=lambda gs: tf.nest.map_structure(tf.norm, gs))\n",
        "\n",
        "@tf.function(autograph=False)\n",
        "def eval():\n",
        "  x, y = next(eval_iter)\n",
        "  yhat = model(x)\n",
        "  nll = -tf.reduce_mean(yhat.log_prob(y))\n",
        "  kl = model.extra_loss\n",
        "  loss = nll + kl\n",
        "  acc = tf.reduce_mean(tf.cast(tf.equal(y, yhat.mode()), tf.float32), axis=-1)\n",
        "  return loss, acc, nll, kl"
      ]
    },
    {
      "cell_type": "code",
      "execution_count": 0,
      "metadata": {
        "cellView": "code",
        "colab": {
          "height": 1000
        },
        "colab_type": "code",
        "id": "ba5W_N6oTNbo",
        "outputId": "af019a38-d0ba-411d-f2ec-42018ffa25ba"
      },
      "outputs": [
        {
          "name": "stdout",
          "output_type": "stream",
          "text": [
            "it:    1   ms/it:11894.6071   tst_acc:0.0950   trn_loss:1548.6454   tst_loss:1835.2985   tst_nll:1835.1682   tst_kl:0.1303   sum_norm_grad:1180.7749\n",
            "it:  101   ms/it:3.6349   tst_acc:0.1200   trn_loss:142.6360   tst_loss:122.9130   tst_nll:122.7722   tst_kl:0.1408   sum_norm_grad:183.3223\n",
            "it:  201   ms/it:3.5865   tst_acc:0.1080   trn_loss:92.1116   tst_loss:67.6313   tst_nll:67.4811   tst_kl:0.1502   sum_norm_grad:145.4780\n",
            "it:  301   ms/it:3.6057   tst_acc:0.1240   trn_loss:62.6742   tst_loss:77.2113   tst_nll:77.0472   tst_kl:0.1641   sum_norm_grad:207.3579\n",
            "it:  401   ms/it:3.6540   tst_acc:0.1810   trn_loss:55.1975   tst_loss:34.8440   tst_nll:34.6665   tst_kl:0.1775   sum_norm_grad:185.4812\n",
            "it:  501   ms/it:3.5181   tst_acc:0.2030   trn_loss:34.6156   tst_loss:48.4643   tst_nll:48.2741   tst_kl:0.1902   sum_norm_grad:52.9664\n",
            "it:  601   ms/it:3.5597   tst_acc:0.2180   trn_loss:15.6520   tst_loss:22.7363   tst_nll:22.5361   tst_kl:0.2002   sum_norm_grad:29.9734\n",
            "it:  701   ms/it:3.5189   tst_acc:0.2640   trn_loss:19.8314   tst_loss:17.6178   tst_nll:17.4054   tst_kl:0.2123   sum_norm_grad:44.6362\n",
            "it:  801   ms/it:3.6952   tst_acc:0.2710   trn_loss:12.4067   tst_loss:15.0549   tst_nll:14.8342   tst_kl:0.2208   sum_norm_grad:32.7872\n",
            "it:  901   ms/it:3.6474   tst_acc:0.2960   trn_loss:16.1517   tst_loss:12.2879   tst_nll:12.0567   tst_kl:0.2312   sum_norm_grad:26.4513\n",
            "it: 1001   ms/it:3.6429   tst_acc:0.5050   trn_loss:6.6434   tst_loss:9.7943   tst_nll:9.5550   tst_kl:0.2393   sum_norm_grad:19.2210\n",
            "it: 1101   ms/it:3.6386   tst_acc:0.5360   trn_loss:6.2002   tst_loss:5.9065   tst_nll:5.6600   tst_kl:0.2465   sum_norm_grad:17.0519\n",
            "it: 1201   ms/it:3.6329   tst_acc:0.5370   trn_loss:4.8620   tst_loss:5.5917   tst_nll:5.3386   tst_kl:0.2530   sum_norm_grad:21.4396\n",
            "it: 1301   ms/it:3.5985   tst_acc:0.6570   trn_loss:7.5572   tst_loss:5.3023   tst_nll:5.0427   tst_kl:0.2596   sum_norm_grad:36.8912\n",
            "it: 1401   ms/it:3.6767   tst_acc:0.6440   trn_loss:7.9245   tst_loss:4.5356   tst_nll:4.2692   tst_kl:0.2664   sum_norm_grad:27.4513\n",
            "it: 1501   ms/it:3.6114   tst_acc:0.6610   trn_loss:3.1422   tst_loss:3.9646   tst_nll:3.6927   tst_kl:0.2718   sum_norm_grad:13.4160\n",
            "it: 1601   ms/it:3.7423   tst_acc:0.7110   trn_loss:3.8080   tst_loss:3.5780   tst_nll:3.3031   tst_kl:0.2749   sum_norm_grad:21.6701\n",
            "it: 1701   ms/it:3.9423   tst_acc:0.7560   trn_loss:4.0294   tst_loss:2.8461   tst_nll:2.5678   tst_kl:0.2783   sum_norm_grad:18.1609\n",
            "it: 1801   ms/it:3.8602   tst_acc:0.7620   trn_loss:3.8715   tst_loss:2.8506   tst_nll:2.5714   tst_kl:0.2792   sum_norm_grad:20.3045\n",
            "it: 1901   ms/it:3.9777   tst_acc:0.7720   trn_loss:1.3942   tst_loss:2.4899   tst_nll:2.2041   tst_kl:0.2858   sum_norm_grad:8.9764\n",
            "it: 2001   ms/it:4.0021   tst_acc:0.7780   trn_loss:1.9675   tst_loss:2.6922   tst_nll:2.4026   tst_kl:0.2896   sum_norm_grad:12.7590\n",
            "it: 2101   ms/it:3.9691   tst_acc:0.7320   trn_loss:2.3643   tst_loss:3.4420   tst_nll:3.1514   tst_kl:0.2906   sum_norm_grad:11.7225\n",
            "it: 2201   ms/it:3.8346   tst_acc:0.8120   trn_loss:2.3139   tst_loss:2.4283   tst_nll:2.1344   tst_kl:0.2939   sum_norm_grad:7.2201\n",
            "it: 2301   ms/it:3.9698   tst_acc:0.8240   trn_loss:1.4850   tst_loss:1.7676   tst_nll:1.4692   tst_kl:0.2985   sum_norm_grad:7.2751\n",
            "it: 2401   ms/it:4.0316   tst_acc:0.8700   trn_loss:1.9934   tst_loss:1.6519   tst_nll:1.3523   tst_kl:0.2996   sum_norm_grad:10.4846\n",
            "it: 2501   ms/it:3.9754   tst_acc:0.8360   trn_loss:1.4142   tst_loss:1.4452   tst_nll:1.1421   tst_kl:0.3031   sum_norm_grad:12.1443\n",
            "it: 2601   ms/it:3.9522   tst_acc:0.8430   trn_loss:1.8405   tst_loss:1.5831   tst_nll:1.2795   tst_kl:0.3037   sum_norm_grad:10.0420\n",
            "it: 2701   ms/it:4.0738   tst_acc:0.8600   trn_loss:1.5061   tst_loss:1.3346   tst_nll:1.0255   tst_kl:0.3090   sum_norm_grad:8.3454\n",
            "it: 2801   ms/it:3.9355   tst_acc:0.8580   trn_loss:1.2166   tst_loss:1.5139   tst_nll:1.2041   tst_kl:0.3098   sum_norm_grad:9.6309\n",
            "it: 2901   ms/it:4.0549   tst_acc:0.8620   trn_loss:3.2734   tst_loss:1.2886   tst_nll:0.9750   tst_kl:0.3137   sum_norm_grad:14.4060\n",
            "it: 3001   ms/it:3.8962   tst_acc:0.8490   trn_loss:2.1745   tst_loss:1.4939   tst_nll:1.1803   tst_kl:0.3136   sum_norm_grad:6.8243\n",
            "it: 3101   ms/it:4.1294   tst_acc:0.8520   trn_loss:1.9366   tst_loss:1.3594   tst_nll:1.0456   tst_kl:0.3139   sum_norm_grad:9.7953\n",
            "it: 3201   ms/it:4.1084   tst_acc:0.8790   trn_loss:1.5853   tst_loss:1.4625   tst_nll:1.1438   tst_kl:0.3187   sum_norm_grad:8.0635\n",
            "it: 3301   ms/it:4.0305   tst_acc:0.8720   trn_loss:0.7458   tst_loss:1.1389   tst_nll:0.8204   tst_kl:0.3186   sum_norm_grad:5.1849\n",
            "it: 3401   ms/it:3.8435   tst_acc:0.8830   trn_loss:0.6694   tst_loss:1.1037   tst_nll:0.7828   tst_kl:0.3209   sum_norm_grad:3.7423\n",
            "it: 3501   ms/it:3.8834   tst_acc:0.8960   trn_loss:1.1127   tst_loss:1.0368   tst_nll:0.7130   tst_kl:0.3238   sum_norm_grad:6.0432\n",
            "it: 3601   ms/it:4.1449   tst_acc:0.8920   trn_loss:0.9099   tst_loss:0.9647   tst_nll:0.6388   tst_kl:0.3259   sum_norm_grad:6.0263\n",
            "it: 3701   ms/it:4.0200   tst_acc:0.8910   trn_loss:1.9675   tst_loss:0.9530   tst_nll:0.6259   tst_kl:0.3271   sum_norm_grad:7.4672\n",
            "it: 3801   ms/it:3.8680   tst_acc:0.9220   trn_loss:1.0380   tst_loss:0.8687   tst_nll:0.5394   tst_kl:0.3292   sum_norm_grad:6.0112\n",
            "it: 3901   ms/it:4.0820   tst_acc:0.8990   trn_loss:1.3726   tst_loss:1.0524   tst_nll:0.7221   tst_kl:0.3304   sum_norm_grad:7.2191\n",
            "it: 4001   ms/it:4.0679   tst_acc:0.9030   trn_loss:0.9968   tst_loss:0.9261   tst_nll:0.5934   tst_kl:0.3327   sum_norm_grad:6.6973\n",
            "it: 4101   ms/it:3.8070   tst_acc:0.9050   trn_loss:0.5214   tst_loss:0.8741   tst_nll:0.5378   tst_kl:0.3362   sum_norm_grad:3.2441\n",
            "it: 4201   ms/it:3.9171   tst_acc:0.9100   trn_loss:0.8330   tst_loss:1.0311   tst_nll:0.6949   tst_kl:0.3361   sum_norm_grad:4.9704\n",
            "it: 4301   ms/it:4.1317   tst_acc:0.9060   trn_loss:0.4841   tst_loss:0.7809   tst_nll:0.4430   tst_kl:0.3380   sum_norm_grad:2.7877\n",
            "it: 4401   ms/it:3.7140   tst_acc:0.9150   trn_loss:1.0608   tst_loss:0.7965   tst_nll:0.4588   tst_kl:0.3377   sum_norm_grad:6.1458\n",
            "it: 4501   ms/it:3.9163   tst_acc:0.9230   trn_loss:0.3870   tst_loss:0.7596   tst_nll:0.4204   tst_kl:0.3391   sum_norm_grad:2.0153\n",
            "it: 4601   ms/it:3.6248   tst_acc:0.9060   trn_loss:0.5781   tst_loss:0.9071   tst_nll:0.5651   tst_kl:0.3420   sum_norm_grad:3.7905\n",
            "it: 4701   ms/it:3.6035   tst_acc:0.9260   trn_loss:0.5685   tst_loss:0.7506   tst_nll:0.4097   tst_kl:0.3409   sum_norm_grad:3.5517\n",
            "it: 4801   ms/it:3.7271   tst_acc:0.9270   trn_loss:1.1159   tst_loss:0.7190   tst_nll:0.3777   tst_kl:0.3413   sum_norm_grad:7.0286\n",
            "it: 4901   ms/it:3.8527   tst_acc:0.9030   trn_loss:0.5258   tst_loss:1.0069   tst_nll:0.6659   tst_kl:0.3410   sum_norm_grad:5.0193\n",
            "it: 5001   ms/it:3.7768   tst_acc:0.9270   trn_loss:0.9581   tst_loss:0.7293   tst_nll:0.3852   tst_kl:0.3440   sum_norm_grad:6.3980\n",
            "it: 5101   ms/it:3.5826   tst_acc:0.9250   trn_loss:0.3835   tst_loss:0.7939   tst_nll:0.4492   tst_kl:0.3447   sum_norm_grad:1.9166\n",
            "it: 5201   ms/it:3.7513   tst_acc:0.9120   trn_loss:0.9627   tst_loss:0.9948   tst_nll:0.6483   tst_kl:0.3465   sum_norm_grad:9.8498\n",
            "it: 5301   ms/it:3.5932   tst_acc:0.9380   trn_loss:1.0568   tst_loss:0.7038   tst_nll:0.3559   tst_kl:0.3480   sum_norm_grad:5.7147\n",
            "it: 5401   ms/it:3.9541   tst_acc:0.9280   trn_loss:0.8224   tst_loss:0.7888   tst_nll:0.4409   tst_kl:0.3479   sum_norm_grad:10.9986\n",
            "it: 5501   ms/it:3.7437   tst_acc:0.9140   trn_loss:0.3947   tst_loss:0.7467   tst_nll:0.3967   tst_kl:0.3501   sum_norm_grad:1.8722\n",
            "it: 5601   ms/it:3.9479   tst_acc:0.9310   trn_loss:0.6186   tst_loss:0.7188   tst_nll:0.3701   tst_kl:0.3487   sum_norm_grad:4.9934\n",
            "it: 5701   ms/it:3.8299   tst_acc:0.9240   trn_loss:0.3494   tst_loss:0.7462   tst_nll:0.3950   tst_kl:0.3512   sum_norm_grad:0.0207\n",
            "it: 5801   ms/it:3.8825   tst_acc:0.9530   trn_loss:0.4219   tst_loss:0.6091   tst_nll:0.2572   tst_kl:0.3519   sum_norm_grad:3.5220\n",
            "it: 5901   ms/it:3.8118   tst_acc:0.9090   trn_loss:0.5796   tst_loss:0.8368   tst_nll:0.4845   tst_kl:0.3522   sum_norm_grad:3.9473\n",
            "it: 6001   ms/it:3.9804   tst_acc:0.9360   trn_loss:0.5280   tst_loss:0.7469   tst_nll:0.3960   tst_kl:0.3508   sum_norm_grad:1.9151\n",
            "it: 6101   ms/it:3.9426   tst_acc:0.9250   trn_loss:0.8477   tst_loss:0.6643   tst_nll:0.3117   tst_kl:0.3526   sum_norm_grad:3.6809\n",
            "it: 6201   ms/it:3.8330   tst_acc:0.9200   trn_loss:1.3356   tst_loss:0.8658   tst_nll:0.5118   tst_kl:0.3540   sum_norm_grad:8.9888\n",
            "it: 6301   ms/it:3.9409   tst_acc:0.9420   trn_loss:0.3574   tst_loss:0.6309   tst_nll:0.2780   tst_kl:0.3529   sum_norm_grad:0.1698\n",
            "it: 6401   ms/it:3.8856   tst_acc:0.9330   trn_loss:1.0063   tst_loss:0.6712   tst_nll:0.3172   tst_kl:0.3540   sum_norm_grad:5.4360\n",
            "it: 6501   ms/it:3.7222   tst_acc:0.9480   trn_loss:0.5963   tst_loss:0.6050   tst_nll:0.2515   tst_kl:0.3535   sum_norm_grad:4.9417\n",
            "it: 6601   ms/it:3.5757   tst_acc:0.9370   trn_loss:0.5029   tst_loss:0.6530   tst_nll:0.2982   tst_kl:0.3549   sum_norm_grad:3.4219\n",
            "it: 6701   ms/it:3.6146   tst_acc:0.9300   trn_loss:0.6166   tst_loss:0.7231   tst_nll:0.3700   tst_kl:0.3531   sum_norm_grad:4.6374\n",
            "it: 6801   ms/it:3.9302   tst_acc:0.9460   trn_loss:0.5053   tst_loss:0.6507   tst_nll:0.2983   tst_kl:0.3524   sum_norm_grad:3.9158\n",
            "it: 6901   ms/it:3.9348   tst_acc:0.9480   trn_loss:0.6184   tst_loss:0.6663   tst_nll:0.3129   tst_kl:0.3534   sum_norm_grad:2.5372\n",
            "it: 7001   ms/it:4.0168   tst_acc:0.9460   trn_loss:0.4344   tst_loss:0.6609   tst_nll:0.3093   tst_kl:0.3516   sum_norm_grad:2.8929\n",
            "it: 7101   ms/it:3.8248   tst_acc:0.9560   trn_loss:1.0199   tst_loss:0.5996   tst_nll:0.2457   tst_kl:0.3539   sum_norm_grad:4.0917\n",
            "it: 7201   ms/it:3.8943   tst_acc:0.9450   trn_loss:0.8505   tst_loss:0.7034   tst_nll:0.3532   tst_kl:0.3502   sum_norm_grad:9.6349\n",
            "it: 7301   ms/it:3.8517   tst_acc:0.9550   trn_loss:1.8422   tst_loss:0.6043   tst_nll:0.2515   tst_kl:0.3528   sum_norm_grad:6.9634\n",
            "it: 7401   ms/it:3.8918   tst_acc:0.9560   trn_loss:0.3636   tst_loss:0.5877   tst_nll:0.2374   tst_kl:0.3503   sum_norm_grad:0.7163\n",
            "it: 7501   ms/it:3.8780   tst_acc:0.9700   trn_loss:0.4636   tst_loss:0.5326   tst_nll:0.1793   tst_kl:0.3534   sum_norm_grad:3.9206\n",
            "it: 7601   ms/it:3.9237   tst_acc:0.9400   trn_loss:0.3765   tst_loss:0.6131   tst_nll:0.2626   tst_kl:0.3505   sum_norm_grad:1.7099\n",
            "it: 7701   ms/it:3.7402   tst_acc:0.9430   trn_loss:0.3969   tst_loss:0.6527   tst_nll:0.3035   tst_kl:0.3492   sum_norm_grad:2.3432\n",
            "it: 7801   ms/it:3.6099   tst_acc:0.9430   trn_loss:0.5499   tst_loss:0.6400   tst_nll:0.2931   tst_kl:0.3469   sum_norm_grad:4.5372\n",
            "it: 7901   ms/it:3.7902   tst_acc:0.9560   trn_loss:1.2790   tst_loss:0.5840   tst_nll:0.2391   tst_kl:0.3448   sum_norm_grad:7.5245\n",
            "it: 8001   ms/it:3.7468   tst_acc:0.9440   trn_loss:0.3690   tst_loss:0.6473   tst_nll:0.2997   tst_kl:0.3476   sum_norm_grad:1.6221\n",
            "it: 8101   ms/it:3.7540   tst_acc:0.9260   trn_loss:0.5635   tst_loss:0.7341   tst_nll:0.3896   tst_kl:0.3444   sum_norm_grad:2.9780\n",
            "it: 8201   ms/it:3.5747   tst_acc:0.9380   trn_loss:1.1741   tst_loss:0.7009   tst_nll:0.3568   tst_kl:0.3441   sum_norm_grad:5.9316\n",
            "it: 8301   ms/it:3.8550   tst_acc:0.9640   trn_loss:0.3779   tst_loss:0.5505   tst_nll:0.2056   tst_kl:0.3449   sum_norm_grad:1.8149\n",
            "it: 8401   ms/it:3.6022   tst_acc:0.9440   trn_loss:0.3827   tst_loss:0.6559   tst_nll:0.3114   tst_kl:0.3445   sum_norm_grad:1.7354\n",
            "it: 8501   ms/it:3.5591   tst_acc:0.9580   trn_loss:1.4076   tst_loss:0.5612   tst_nll:0.2176   tst_kl:0.3436   sum_norm_grad:6.3150\n",
            "it: 8601   ms/it:3.7573   tst_acc:0.9660   trn_loss:0.4456   tst_loss:0.5171   tst_nll:0.1747   tst_kl:0.3424   sum_norm_grad:3.2240\n",
            "it: 8701   ms/it:3.8138   tst_acc:0.9610   trn_loss:0.8193   tst_loss:0.5893   tst_nll:0.2466   tst_kl:0.3427   sum_norm_grad:4.3836\n",
            "it: 8801   ms/it:3.5351   tst_acc:0.9740   trn_loss:0.4469   tst_loss:0.4613   tst_nll:0.1227   tst_kl:0.3386   sum_norm_grad:2.7560\n",
            "it: 8901   ms/it:3.8830   tst_acc:0.9610   trn_loss:0.9464   tst_loss:0.5452   tst_nll:0.2082   tst_kl:0.3371   sum_norm_grad:5.3229\n",
            "it: 9001   ms/it:3.7600   tst_acc:0.9530   trn_loss:0.9408   tst_loss:0.6118   tst_nll:0.2744   tst_kl:0.3374   sum_norm_grad:5.9198\n",
            "it: 9101   ms/it:3.9312   tst_acc:0.9610   trn_loss:0.6385   tst_loss:0.5328   tst_nll:0.1959   tst_kl:0.3369   sum_norm_grad:6.1740\n",
            "it: 9201   ms/it:4.1432   tst_acc:0.9550   trn_loss:0.9881   tst_loss:0.7054   tst_nll:0.3686   tst_kl:0.3368   sum_norm_grad:3.8925\n",
            "it: 9301   ms/it:3.8893   tst_acc:0.9740   trn_loss:0.5312   tst_loss:0.4530   tst_nll:0.1164   tst_kl:0.3365   sum_norm_grad:4.3604\n",
            "it: 9401   ms/it:4.0374   tst_acc:0.9530   trn_loss:0.6208   tst_loss:0.5636   tst_nll:0.2318   tst_kl:0.3318   sum_norm_grad:3.3723\n",
            "it: 9501   ms/it:3.9114   tst_acc:0.9580   trn_loss:0.3463   tst_loss:0.5806   tst_nll:0.2531   tst_kl:0.3274   sum_norm_grad:1.2607\n",
            "it: 9601   ms/it:3.8258   tst_acc:0.9660   trn_loss:0.3682   tst_loss:0.5109   tst_nll:0.1823   tst_kl:0.3285   sum_norm_grad:2.5142\n",
            "it: 9701   ms/it:3.9912   tst_acc:0.9520   trn_loss:1.3108   tst_loss:0.5058   tst_nll:0.1779   tst_kl:0.3278   sum_norm_grad:6.3106\n",
            "it: 9801   ms/it:4.0022   tst_acc:0.9720   trn_loss:0.4397   tst_loss:0.4733   tst_nll:0.1468   tst_kl:0.3265   sum_norm_grad:3.6160\n",
            "it: 9901   ms/it:3.9713   tst_acc:0.9660   trn_loss:0.5579   tst_loss:0.5979   tst_nll:0.2710   tst_kl:0.3269   sum_norm_grad:4.8899\n",
            "it:10001   ms/it:3.9471   tst_acc:0.9520   trn_loss:0.6745   tst_loss:0.6571   tst_nll:0.3319   tst_kl:0.3252   sum_norm_grad:3.7234\n",
            "it:10101   ms/it:3.8888   tst_acc:0.9620   trn_loss:0.3263   tst_loss:0.5072   tst_nll:0.1848   tst_kl:0.3223   sum_norm_grad:0.5418\n",
            "it:10201   ms/it:3.9105   tst_acc:0.9560   trn_loss:0.3246   tst_loss:0.6053   tst_nll:0.2834   tst_kl:0.3219   sum_norm_grad:0.1748\n",
            "it:10301   ms/it:3.9416   tst_acc:0.9690   trn_loss:0.7458   tst_loss:0.4672   tst_nll:0.1458   tst_kl:0.3214   sum_norm_grad:4.8315\n",
            "it:10401   ms/it:3.9633   tst_acc:0.9670   trn_loss:0.6788   tst_loss:0.5095   tst_nll:0.1873   tst_kl:0.3222   sum_norm_grad:3.5140\n",
            "it:10501   ms/it:3.9425   tst_acc:0.9610   trn_loss:0.7248   tst_loss:0.4875   tst_nll:0.1663   tst_kl:0.3212   sum_norm_grad:4.5090\n",
            "it:10601   ms/it:3.9823   tst_acc:0.9680   trn_loss:1.1512   tst_loss:0.4920   tst_nll:0.1729   tst_kl:0.3191   sum_norm_grad:7.3627\n",
            "it:10701   ms/it:3.6864   tst_acc:0.9750   trn_loss:1.0253   tst_loss:0.4588   tst_nll:0.1382   tst_kl:0.3206   sum_norm_grad:6.1531\n",
            "it:10801   ms/it:3.5870   tst_acc:0.9550   trn_loss:0.4546   tst_loss:0.5334   tst_nll:0.2153   tst_kl:0.3181   sum_norm_grad:2.4990\n",
            "it:10901   ms/it:3.6725   tst_acc:0.9420   trn_loss:0.4942   tst_loss:0.5782   tst_nll:0.2632   tst_kl:0.3150   sum_norm_grad:2.7333\n",
            "it:11001   ms/it:3.6849   tst_acc:0.9630   trn_loss:0.4620   tst_loss:0.5194   tst_nll:0.2042   tst_kl:0.3152   sum_norm_grad:4.9302\n",
            "it:11101   ms/it:3.8433   tst_acc:0.9650   trn_loss:1.6695   tst_loss:0.5163   tst_nll:0.2028   tst_kl:0.3135   sum_norm_grad:8.3949\n",
            "it:11201   ms/it:3.6383   tst_acc:0.9620   trn_loss:0.3147   tst_loss:0.5241   tst_nll:0.2093   tst_kl:0.3148   sum_norm_grad:0.0125\n",
            "it:11301   ms/it:3.7574   tst_acc:0.9740   trn_loss:0.3175   tst_loss:0.4401   tst_nll:0.1276   tst_kl:0.3124   sum_norm_grad:0.3553\n",
            "it:11401   ms/it:3.7881   tst_acc:0.9640   trn_loss:1.0573   tst_loss:0.4892   tst_nll:0.1790   tst_kl:0.3102   sum_norm_grad:6.4069\n",
            "it:11501   ms/it:3.6449   tst_acc:0.9520   trn_loss:0.4808   tst_loss:0.5471   tst_nll:0.2394   tst_kl:0.3077   sum_norm_grad:2.6420\n",
            "it:11601   ms/it:3.6964   tst_acc:0.9750   trn_loss:0.5070   tst_loss:0.4624   tst_nll:0.1571   tst_kl:0.3053   sum_norm_grad:3.2677\n",
            "it:11701   ms/it:3.6335   tst_acc:0.9560   trn_loss:0.4156   tst_loss:0.4803   tst_nll:0.1783   tst_kl:0.3020   sum_norm_grad:4.2706\n",
            "it:11801   ms/it:3.7833   tst_acc:0.9590   trn_loss:0.4441   tst_loss:0.4470   tst_nll:0.1452   tst_kl:0.3018   sum_norm_grad:3.3593\n",
            "it:11901   ms/it:3.8555   tst_acc:0.9640   trn_loss:0.3023   tst_loss:0.5405   tst_nll:0.2376   tst_kl:0.3029   sum_norm_grad:0.0235\n",
            "it:12001   ms/it:3.7041   tst_acc:0.9480   trn_loss:0.7078   tst_loss:0.6029   tst_nll:0.2978   tst_kl:0.3051   sum_norm_grad:6.1463\n",
            "it:12101   ms/it:3.8753   tst_acc:0.9500   trn_loss:0.3179   tst_loss:0.5494   tst_nll:0.2464   tst_kl:0.3031   sum_norm_grad:0.7200\n",
            "it:12201   ms/it:3.7816   tst_acc:0.9580   trn_loss:0.3016   tst_loss:0.5546   tst_nll:0.2523   tst_kl:0.3023   sum_norm_grad:0.0520\n",
            "it:12301   ms/it:3.9519   tst_acc:0.9700   trn_loss:1.2218   tst_loss:0.4307   tst_nll:0.1277   tst_kl:0.3029   sum_norm_grad:7.8857\n",
            "it:12401   ms/it:3.9208   tst_acc:0.9620   trn_loss:0.3104   tst_loss:0.4604   tst_nll:0.1577   tst_kl:0.3027   sum_norm_grad:1.0698\n",
            "it:12501   ms/it:3.7859   tst_acc:0.9680   trn_loss:0.5052   tst_loss:0.4795   tst_nll:0.1778   tst_kl:0.3017   sum_norm_grad:3.0873\n",
            "it:12601   ms/it:3.9584   tst_acc:0.9620   trn_loss:0.3206   tst_loss:0.4705   tst_nll:0.1665   tst_kl:0.3040   sum_norm_grad:0.9302\n",
            "it:12701   ms/it:3.9883   tst_acc:0.9540   trn_loss:0.4184   tst_loss:0.5217   tst_nll:0.2200   tst_kl:0.3017   sum_norm_grad:2.9682\n",
            "it:12801   ms/it:3.7914   tst_acc:0.9720   trn_loss:0.3779   tst_loss:0.4047   tst_nll:0.1033   tst_kl:0.3014   sum_norm_grad:2.9616\n",
            "it:12901   ms/it:3.5871   tst_acc:0.9550   trn_loss:0.3008   tst_loss:0.5634   tst_nll:0.2664   tst_kl:0.2970   sum_norm_grad:0.1159\n",
            "it:13001   ms/it:3.6976   tst_acc:0.9530   trn_loss:0.4552   tst_loss:0.5494   tst_nll:0.2523   tst_kl:0.2971   sum_norm_grad:5.2861\n",
            "it:13101   ms/it:3.7261   tst_acc:0.9660   trn_loss:0.4486   tst_loss:0.4272   tst_nll:0.1307   tst_kl:0.2965   sum_norm_grad:3.0267\n",
            "it:13201   ms/it:4.0417   tst_acc:0.9500   trn_loss:0.3032   tst_loss:0.5439   tst_nll:0.2491   tst_kl:0.2948   sum_norm_grad:0.5911\n",
            "it:13301   ms/it:3.7395   tst_acc:0.9770   trn_loss:0.4475   tst_loss:0.4010   tst_nll:0.1067   tst_kl:0.2943   sum_norm_grad:3.3975\n",
            "it:13401   ms/it:3.8751   tst_acc:0.9540   trn_loss:0.3005   tst_loss:0.5768   tst_nll:0.2847   tst_kl:0.2920   sum_norm_grad:1.0260\n",
            "it:13501   ms/it:3.7830   tst_acc:0.9610   trn_loss:0.3843   tst_loss:0.5157   tst_nll:0.2255   tst_kl:0.2902   sum_norm_grad:4.0654\n",
            "it:13601   ms/it:3.9807   tst_acc:0.9660   trn_loss:0.4556   tst_loss:0.5189   tst_nll:0.2274   tst_kl:0.2916   sum_norm_grad:4.0465\n",
            "it:13701   ms/it:3.7397   tst_acc:0.9630   trn_loss:0.2904   tst_loss:0.4562   tst_nll:0.1642   tst_kl:0.2920   sum_norm_grad:0.0984\n",
            "it:13801   ms/it:3.7911   tst_acc:0.9680   trn_loss:0.8809   tst_loss:0.4489   tst_nll:0.1604   tst_kl:0.2885   sum_norm_grad:7.8136\n",
            "it:13901   ms/it:3.8576   tst_acc:0.9590   trn_loss:0.5823   tst_loss:0.4455   tst_nll:0.1541   tst_kl:0.2914   sum_norm_grad:4.4051\n",
            "it:14001   ms/it:3.7437   tst_acc:0.9650   trn_loss:0.8715   tst_loss:0.4867   tst_nll:0.1946   tst_kl:0.2921   sum_norm_grad:5.6902\n",
            "it:14101   ms/it:3.6326   tst_acc:0.9690   trn_loss:0.4645   tst_loss:0.4344   tst_nll:0.1434   tst_kl:0.2910   sum_norm_grad:3.3774\n",
            "it:14201   ms/it:3.9008   tst_acc:0.9510   trn_loss:0.5728   tst_loss:0.5860   tst_nll:0.2976   tst_kl:0.2884   sum_norm_grad:6.3931\n",
            "it:14301   ms/it:3.9029   tst_acc:0.9720   trn_loss:0.6674   tst_loss:0.4151   tst_nll:0.1287   tst_kl:0.2864   sum_norm_grad:4.9880\n",
            "it:14401   ms/it:3.7723   tst_acc:0.9590   trn_loss:0.4298   tst_loss:0.5087   tst_nll:0.2207   tst_kl:0.2880   sum_norm_grad:3.7376\n",
            "it:14501   ms/it:3.8361   tst_acc:0.9740   trn_loss:0.6402   tst_loss:0.4447   tst_nll:0.1579   tst_kl:0.2868   sum_norm_grad:3.1707\n",
            "it:14601   ms/it:3.5802   tst_acc:0.9650   trn_loss:0.3467   tst_loss:0.4130   tst_nll:0.1273   tst_kl:0.2857   sum_norm_grad:3.8432\n",
            "it:14701   ms/it:3.8113   tst_acc:0.9560   trn_loss:0.2880   tst_loss:0.4791   tst_nll:0.1947   tst_kl:0.2844   sum_norm_grad:0.0697\n",
            "it:14801   ms/it:3.7256   tst_acc:0.9620   trn_loss:0.3353   tst_loss:0.4578   tst_nll:0.1704   tst_kl:0.2874   sum_norm_grad:3.2275\n",
            "it:14901   ms/it:3.8198   tst_acc:0.9640   trn_loss:0.3016   tst_loss:0.4454   tst_nll:0.1560   tst_kl:0.2894   sum_norm_grad:1.5075\n",
            "it:15001   ms/it:3.9035   tst_acc:0.9690   trn_loss:0.4369   tst_loss:0.4701   tst_nll:0.1790   tst_kl:0.2911   sum_norm_grad:3.9906\n",
            "it:15101   ms/it:3.6324   tst_acc:0.9750   trn_loss:0.3777   tst_loss:0.4077   tst_nll:0.1220   tst_kl:0.2857   sum_norm_grad:3.1063\n",
            "it:15201   ms/it:3.8592   tst_acc:0.9630   trn_loss:0.5080   tst_loss:0.5373   tst_nll:0.2537   tst_kl:0.2836   sum_norm_grad:3.6207\n",
            "it:15301   ms/it:3.8917   tst_acc:0.9660   trn_loss:0.4428   tst_loss:0.4206   tst_nll:0.1381   tst_kl:0.2825   sum_norm_grad:4.4016\n",
            "it:15401   ms/it:3.9846   tst_acc:0.9510   trn_loss:1.0503   tst_loss:0.4699   tst_nll:0.1892   tst_kl:0.2807   sum_norm_grad:6.6151\n",
            "it:15501   ms/it:3.9101   tst_acc:0.9650   trn_loss:1.2502   tst_loss:0.5091   tst_nll:0.2250   tst_kl:0.2841   sum_norm_grad:7.0547\n",
            "it:15601   ms/it:3.9208   tst_acc:0.9730   trn_loss:0.5946   tst_loss:0.4093   tst_nll:0.1233   tst_kl:0.2860   sum_norm_grad:4.0246\n",
            "it:15701   ms/it:3.9270   tst_acc:0.9800   trn_loss:0.5392   tst_loss:0.3758   tst_nll:0.0895   tst_kl:0.2863   sum_norm_grad:7.7563\n",
            "it:15801   ms/it:3.9254   tst_acc:0.9680   trn_loss:0.3192   tst_loss:0.4618   tst_nll:0.1765   tst_kl:0.2854   sum_norm_grad:3.3527\n",
            "it:15901   ms/it:3.8238   tst_acc:0.9660   trn_loss:0.3500   tst_loss:0.5022   tst_nll:0.2158   tst_kl:0.2864   sum_norm_grad:4.7641\n",
            "it:16001   ms/it:3.8241   tst_acc:0.9690   trn_loss:0.4445   tst_loss:0.5295   tst_nll:0.2359   tst_kl:0.2936   sum_norm_grad:5.8373\n",
            "it:16101   ms/it:3.8757   tst_acc:0.9680   trn_loss:0.3736   tst_loss:0.4427   tst_nll:0.1475   tst_kl:0.2952   sum_norm_grad:4.0867\n",
            "it:16201   ms/it:3.8906   tst_acc:0.9590   trn_loss:0.8011   tst_loss:0.5348   tst_nll:0.2420   tst_kl:0.2928   sum_norm_grad:8.0810\n",
            "it:16301   ms/it:3.8820   tst_acc:0.9760   trn_loss:0.9312   tst_loss:0.4258   tst_nll:0.1333   tst_kl:0.2925   sum_norm_grad:6.1180\n",
            "it:16401   ms/it:4.0559   tst_acc:0.9700   trn_loss:0.3436   tst_loss:0.4398   tst_nll:0.1492   tst_kl:0.2906   sum_norm_grad:3.7557\n",
            "it:16501   ms/it:3.9214   tst_acc:0.9670   trn_loss:0.3111   tst_loss:0.4341   tst_nll:0.1424   tst_kl:0.2917   sum_norm_grad:1.8140\n",
            "it:16601   ms/it:3.7393   tst_acc:0.9650   trn_loss:0.2967   tst_loss:0.5001   tst_nll:0.2112   tst_kl:0.2890   sum_norm_grad:0.4469\n",
            "it:16701   ms/it:3.8132   tst_acc:0.9710   trn_loss:1.3028   tst_loss:0.4048   tst_nll:0.1141   tst_kl:0.2906   sum_norm_grad:8.1719\n",
            "it:16801   ms/it:3.6599   tst_acc:0.9680   trn_loss:0.4153   tst_loss:0.4510   tst_nll:0.1622   tst_kl:0.2888   sum_norm_grad:3.7184\n",
            "it:16901   ms/it:3.7605   tst_acc:0.9540   trn_loss:0.3205   tst_loss:0.5020   tst_nll:0.2122   tst_kl:0.2898   sum_norm_grad:1.9351\n",
            "it:17001   ms/it:3.8409   tst_acc:0.9570   trn_loss:0.9687   tst_loss:0.5110   tst_nll:0.2247   tst_kl:0.2863   sum_norm_grad:3.7740\n",
            "it:17101   ms/it:3.9290   tst_acc:0.9700   trn_loss:0.2863   tst_loss:0.4499   tst_nll:0.1639   tst_kl:0.2860   sum_norm_grad:0.0053\n",
            "it:17201   ms/it:3.6982   tst_acc:0.9710   trn_loss:0.4175   tst_loss:0.5779   tst_nll:0.2950   tst_kl:0.2829   sum_norm_grad:6.7472\n",
            "it:17301   ms/it:3.6749   tst_acc:0.9770   trn_loss:0.2845   tst_loss:0.3875   tst_nll:0.1046   tst_kl:0.2829   sum_norm_grad:0.0297\n",
            "it:17401   ms/it:3.8552   tst_acc:0.9740   trn_loss:0.3171   tst_loss:0.4302   tst_nll:0.1450   tst_kl:0.2852   sum_norm_grad:2.4832\n",
            "it:17501   ms/it:3.8327   tst_acc:0.9710   trn_loss:0.5138   tst_loss:0.4406   tst_nll:0.1561   tst_kl:0.2845   sum_norm_grad:6.0277\n",
            "it:17601   ms/it:3.4944   tst_acc:0.9740   trn_loss:0.2880   tst_loss:0.4206   tst_nll:0.1389   tst_kl:0.2817   sum_norm_grad:0.7652\n",
            "it:17701   ms/it:3.8220   tst_acc:0.9840   trn_loss:0.6357   tst_loss:0.3894   tst_nll:0.1059   tst_kl:0.2836   sum_norm_grad:6.2518\n",
            "it:17801   ms/it:3.8840   tst_acc:0.9740   trn_loss:0.3241   tst_loss:0.4414   tst_nll:0.1570   tst_kl:0.2845   sum_norm_grad:4.3345\n",
            "it:17901   ms/it:3.9696   tst_acc:0.9670   trn_loss:0.4745   tst_loss:0.4723   tst_nll:0.1850   tst_kl:0.2873   sum_norm_grad:4.5356\n",
            "it:18001   ms/it:3.9541   tst_acc:0.9700   trn_loss:0.2884   tst_loss:0.4459   tst_nll:0.1586   tst_kl:0.2872   sum_norm_grad:0.0638\n",
            "it:18101   ms/it:3.5983   tst_acc:0.9730   trn_loss:0.2894   tst_loss:0.4397   tst_nll:0.1533   tst_kl:0.2864   sum_norm_grad:0.2638\n",
            "it:18201   ms/it:3.9569   tst_acc:0.9640   trn_loss:0.6434   tst_loss:0.4792   tst_nll:0.1932   tst_kl:0.2860   sum_norm_grad:6.3792\n",
            "it:18301   ms/it:3.8607   tst_acc:0.9780   trn_loss:0.8245   tst_loss:0.3652   tst_nll:0.0817   tst_kl:0.2835   sum_norm_grad:6.5702\n",
            "it:18401   ms/it:4.0630   tst_acc:0.9640   trn_loss:0.3051   tst_loss:0.4684   tst_nll:0.1848   tst_kl:0.2836   sum_norm_grad:1.1749\n",
            "it:18501   ms/it:3.8779   tst_acc:0.9660   trn_loss:0.4563   tst_loss:0.4443   tst_nll:0.1608   tst_kl:0.2834   sum_norm_grad:5.1496\n",
            "it:18601   ms/it:4.0219   tst_acc:0.9670   trn_loss:0.6245   tst_loss:0.4658   tst_nll:0.1802   tst_kl:0.2856   sum_norm_grad:7.4269\n",
            "it:18701   ms/it:3.8083   tst_acc:0.9710   trn_loss:1.6586   tst_loss:0.4872   tst_nll:0.1991   tst_kl:0.2880   sum_norm_grad:8.9882\n",
            "it:18801   ms/it:3.8171   tst_acc:0.9720   trn_loss:0.3044   tst_loss:0.4895   tst_nll:0.1977   tst_kl:0.2918   sum_norm_grad:1.8936\n",
            "it:18901   ms/it:3.9345   tst_acc:0.9550   trn_loss:0.4019   tst_loss:0.4890   tst_nll:0.1966   tst_kl:0.2925   sum_norm_grad:2.8267\n",
            "it:19001   ms/it:3.6375   tst_acc:0.9570   trn_loss:0.2909   tst_loss:0.4887   tst_nll:0.1973   tst_kl:0.2914   sum_norm_grad:0.2026\n",
            "it:19101   ms/it:3.9954   tst_acc:0.9660   trn_loss:0.4570   tst_loss:0.4478   tst_nll:0.1593   tst_kl:0.2885   sum_norm_grad:4.7376\n",
            "it:19201   ms/it:4.0748   tst_acc:0.9690   trn_loss:0.4261   tst_loss:0.5026   tst_nll:0.2119   tst_kl:0.2906   sum_norm_grad:3.5033\n",
            "it:19301   ms/it:3.9899   tst_acc:0.9720   trn_loss:0.4213   tst_loss:0.4172   tst_nll:0.1293   tst_kl:0.2879   sum_norm_grad:5.0742\n",
            "it:19401   ms/it:4.0420   tst_acc:0.9730   trn_loss:0.6629   tst_loss:0.4930   tst_nll:0.2049   tst_kl:0.2880   sum_norm_grad:5.1658\n",
            "it:19501   ms/it:3.8380   tst_acc:0.9750   trn_loss:0.5925   tst_loss:0.4499   tst_nll:0.1600   tst_kl:0.2899   sum_norm_grad:6.2605\n",
            "it:19601   ms/it:3.9281   tst_acc:0.9620   trn_loss:0.7806   tst_loss:0.4618   tst_nll:0.1734   tst_kl:0.2884   sum_norm_grad:9.2024\n",
            "it:19701   ms/it:3.9863   tst_acc:0.9640   trn_loss:0.8473   tst_loss:0.4339   tst_nll:0.1505   tst_kl:0.2834   sum_norm_grad:5.0153\n",
            "it:19801   ms/it:3.7738   tst_acc:0.9790   trn_loss:0.2858   tst_loss:0.3817   tst_nll:0.0977   tst_kl:0.2840   sum_norm_grad:0.0559\n",
            "it:19901   ms/it:3.7546   tst_acc:0.9720   trn_loss:0.6915   tst_loss:0.4211   tst_nll:0.1374   tst_kl:0.2838   sum_norm_grad:7.3256\n",
            "it:20000   ms/it:4.0041   tst_acc:0.9650   trn_loss:0.5636   tst_loss:0.5147   tst_nll:0.2318   tst_kl:0.2829   sum_norm_grad:7.1626\n"
          ]
        }
      ],
      "source": [
        "num_train_steps = 20e3  # @param { isTemplate: true}\n",
        "num_train_steps = int(num_train_steps)  # Enforce correct type when overridden.\n",
        "dur_sec = dur_num = 0\n",
        "\n",
        "for i in range(num_train_steps):\n",
        "  start = time.time()\n",
        "  trn_loss, (trn_nll, trn_kl), g = fit()\n",
        "  stop = time.time()\n",
        "  dur_sec += stop - start\n",
        "  dur_num += 1\n",
        "  if i % 100 == 0 or i == num_train_steps - 1:\n",
        "    tst_loss, tst_acc, tst_nll, tst_kl = eval()\n",
        "    f, x = zip(*[\n",
        "        ('it:{:5}', opt.iterations),\n",
        "        ('ms/it:{:6.4f}', dur_sec / max(1., dur_num) * 1000.),\n",
        "        ('tst_acc:{:6.4f}', tst_acc),\n",
        "        ('trn_loss:{:6.4f}', trn_loss),\n",
        "        ('tst_loss:{:6.4f}', tst_loss),\n",
        "        ('tst_nll:{:6.4f}', tst_nll),\n",
        "        ('tst_kl:{:6.4f}', tst_kl),\n",
        "        ('sum_norm_grad:{:6.4f}', sum(g)),\n",
        "\n",
        "    ])\n",
        "    print('   '.join(f).format(*[getattr(x_, 'numpy', lambda: x_)()\n",
        "                                 for x_ in x]))\n",
        "    sys.stdout.flush()\n",
        "    dur_sec = dur_num = 0\n",
        "  # if i % 1000 == 0 or i == maxiter - 1:\n",
        "  #   model.save('/tmp/bnn.npz')"
      ]
    },
    {
      "cell_type": "markdown",
      "metadata": {
        "colab_type": "text",
        "id": "G1ImqkK7xAv1"
      },
      "source": [
        "### 5  Evaluate"
      ]
    },
    {
      "cell_type": "code",
      "execution_count": 0,
      "metadata": {
        "cellView": "code",
        "colab": {},
        "colab_type": "code",
        "id": "WDKmgxIL6cs3"
      },
      "outputs": [],
      "source": [
        "# Run inference multiple times...\n",
        "num_inferences = 10  # @param { isTemplate: true}\n",
        "num_inferences = int(num_inferences)  # Enforce correct type when overridden.\n",
        "\n",
        "x_final, y_final = next(iter(eval_dataset.batch(10000)))\n",
        "@tf.function(autograph=False, experimental_compile=True)\n",
        "def predicted_logits():\n",
        "  yhat = model(x_final)\n",
        "  return yhat.logits_parameter()\n",
        "\n",
        "avg_logits = []\n",
        "for i in range(num_inferences):\n",
        "  yhat = model(x_final)\n",
        "  avg_logits.append(predicted_logits())\n",
        "avg_logits = tf.stack(avg_logits, axis=0)\n",
        "avg_probs = tf.math.exp(tfp.math.reduce_logmeanexp(\n",
        "    tf.math.log_softmax(avg_logits, axis=-1), axis=0))"
      ]
    },
    {
      "cell_type": "code",
      "execution_count": 0,
      "metadata": {
        "colab": {
          "height": 206
        },
        "colab_type": "code",
        "id": "GruYULWneKq0",
        "outputId": "4285de52-6987-4ebc-8342-1981a5db1d7f"
      },
      "outputs": [
        {
          "name": "stdout",
          "output_type": "stream",
          "text": [
            "Number of examples undecided: 682\n",
            "Accurary after excluding undecided ones: 0.996351122856\n"
          ]
        },
        {
          "data": {
            "image/png": "[encoded data removed]",
            "text/plain": [
              "\u003cmatplotlib.figure.Figure at 0x364f73a05f10\u003e"
            ]
          },
          "metadata": {
            "tags": []
          },
          "output_type": "display_data"
        }
      ],
      "source": [
        "decision = tf.argmax(avg_probs, axis=1, output_type=tf.int32)\n",
        "confidence = tf.reduce_max(avg_probs, axis=1)\n",
        "threshold = 0.95\n",
        "\n",
        "decided_idx = tf.where(confidence \u003e threshold)\n",
        "ordered = tf.argsort(confidence)\n",
        "\n",
        "print('Number of examples undecided: {}'.format(10000 - tf.size(decided_idx)))\n",
        "\n",
        "accurary = tf.reduce_mean(\n",
        "    tf.cast(tf.equal(tf.gather(y_final, decided_idx),\n",
        "                     tf.gather(decision, decided_idx)),\n",
        "            tf.float32))\n",
        "print('Accurary after excluding undecided ones: {}'.format(accurary))\n",
        "\n",
        "tfp_nn.util.display_imgs(\n",
        "     tf.gather(x_final, ordered[0:50]),\n",
        "     tf.gather(y_final, ordered[0:50]));"
      ]
    }
  ],
  "metadata": {
    "colab": {
      "collapsed_sections": [
        "B0HrNKbJw2bA",
        "nbQ3rcTowypZ"
      ],
      "name": "Variational Convolution with Reparameterization",
      "provenance": [],
      "toc_visible": true
    },
    "kernelspec": {
      "display_name": "Python 2",
      "name": "python2"
    }
  },
  "nbformat": 4,
  "nbformat_minor": 0
}
